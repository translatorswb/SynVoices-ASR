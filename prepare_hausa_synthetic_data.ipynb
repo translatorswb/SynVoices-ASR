{
 "cells": [
  {
   "cell_type": "markdown",
   "metadata": {},
   "source": [
    "# Imports"
   ]
  },
  {
   "cell_type": "code",
   "execution_count": 1,
   "metadata": {},
   "outputs": [],
   "source": [
    "import json\n",
    "import pandas as pd\n",
    "import os"
   ]
  },
  {
   "cell_type": "markdown",
   "metadata": {},
   "source": [
    "# Prepare synthetic dataset"
   ]
  },
  {
   "cell_type": "code",
   "execution_count": 2,
   "metadata": {},
   "outputs": [
    {
     "data": {
      "text/plain": [
       "490475"
      ]
     },
     "execution_count": 2,
     "metadata": {},
     "output_type": "execute_result"
    }
   ],
   "source": [
    "path = \"/mnt/md0/synvoices/data/hausa_asr_filtered_augmented/manifest.jsonl\"\n",
    "\n",
    "with open(path, \"r\") as f:\n",
    "    lines = f.readlines()\n",
    "    data = [json.loads(line) for line in lines]\n",
    "\n",
    "len(data)"
   ]
  },
  {
   "cell_type": "code",
   "execution_count": 3,
   "metadata": {},
   "outputs": [
    {
     "data": {
      "text/plain": [
       "{'audio_filepath': '/mnt/md0/synvoices/data/hausa_asr_filtered_augmented/clips/c0a35934830037866c2681950ad7197f.wav',\n",
       " 'text': 'yawancin mutane suna koyi daga manyan su',\n",
       " 'pred_text': 'yawancin mutane suna koyi daga manyanso',\n",
       " 'original_text': 'Yawancin mutane suna koyi daga manyan su.',\n",
       " 'duration': 3.6586875,\n",
       " 'ratio': 0.975}"
      ]
     },
     "execution_count": 3,
     "metadata": {},
     "output_type": "execute_result"
    }
   ],
   "source": [
    "data[0]"
   ]
  },
  {
   "cell_type": "code",
   "execution_count": 4,
   "metadata": {},
   "outputs": [
    {
     "data": {
      "application/vnd.microsoft.datawrangler.viewer.v0+json": {
       "columns": [
        {
         "name": "index",
         "rawType": "object",
         "type": "string"
        },
        {
         "name": "audio_filepath",
         "rawType": "object",
         "type": "unknown"
        },
        {
         "name": "text",
         "rawType": "object",
         "type": "unknown"
        },
        {
         "name": "pred_text",
         "rawType": "object",
         "type": "unknown"
        },
        {
         "name": "original_text",
         "rawType": "object",
         "type": "unknown"
        },
        {
         "name": "duration",
         "rawType": "float64",
         "type": "float"
        },
        {
         "name": "ratio",
         "rawType": "float64",
         "type": "float"
        }
       ],
       "conversionMethod": "pd.DataFrame",
       "ref": "bec4b6ab-7590-464d-b599-b225933b81c0",
       "rows": [
        [
         "count",
         "490475",
         "490475",
         "490475",
         "490475",
         "490475.0",
         "490475.0"
        ],
        [
         "unique",
         "490475",
         "489383",
         "489041",
         "490475",
         null,
         null
        ],
        [
         "top",
         "/mnt/md0/synvoices/data/hausa_asr_filtered_augmented/clips/b63fe98edbe1bb8ec8a0fd7b1f97b1a1.wav",
         "me ya sa aka rubuta takardar 'yancin kai",
         "me ya sa ilimi mai kyau yake da muhimmanci",
         "Yaya za mu iya tabbatar da samar da kaya mai tsabta?",
         null,
         null
        ],
        [
         "freq",
         "1",
         "5",
         "5",
         "1",
         null,
         null
        ],
        [
         "mean",
         null,
         null,
         null,
         null,
         "4.2159507367857705",
         "1.001486508476588"
        ],
        [
         "std",
         null,
         null,
         null,
         null,
         "0.750225066107587",
         "0.02498131081128757"
        ],
        [
         "min",
         null,
         null,
         null,
         null,
         "1.5786875",
         "0.85"
        ],
        [
         "25%",
         null,
         null,
         null,
         null,
         "3.712",
         "1.0"
        ],
        [
         "50%",
         null,
         null,
         null,
         null,
         "4.1706875",
         "1.0"
        ],
        [
         "75%",
         null,
         null,
         null,
         null,
         "4.6826875",
         "1.0192307692"
        ],
        [
         "max",
         null,
         null,
         null,
         null,
         "9.0026875",
         "1.06"
        ]
       ],
       "shape": {
        "columns": 6,
        "rows": 11
       }
      },
      "text/html": [
       "<div>\n",
       "<style scoped>\n",
       "    .dataframe tbody tr th:only-of-type {\n",
       "        vertical-align: middle;\n",
       "    }\n",
       "\n",
       "    .dataframe tbody tr th {\n",
       "        vertical-align: top;\n",
       "    }\n",
       "\n",
       "    .dataframe thead th {\n",
       "        text-align: right;\n",
       "    }\n",
       "</style>\n",
       "<table border=\"1\" class=\"dataframe\">\n",
       "  <thead>\n",
       "    <tr style=\"text-align: right;\">\n",
       "      <th></th>\n",
       "      <th>audio_filepath</th>\n",
       "      <th>text</th>\n",
       "      <th>pred_text</th>\n",
       "      <th>original_text</th>\n",
       "      <th>duration</th>\n",
       "      <th>ratio</th>\n",
       "    </tr>\n",
       "  </thead>\n",
       "  <tbody>\n",
       "    <tr>\n",
       "      <th>count</th>\n",
       "      <td>490475</td>\n",
       "      <td>490475</td>\n",
       "      <td>490475</td>\n",
       "      <td>490475</td>\n",
       "      <td>490475.000000</td>\n",
       "      <td>490475.000000</td>\n",
       "    </tr>\n",
       "    <tr>\n",
       "      <th>unique</th>\n",
       "      <td>490475</td>\n",
       "      <td>489383</td>\n",
       "      <td>489041</td>\n",
       "      <td>490475</td>\n",
       "      <td>NaN</td>\n",
       "      <td>NaN</td>\n",
       "    </tr>\n",
       "    <tr>\n",
       "      <th>top</th>\n",
       "      <td>/mnt/md0/synvoices/data/hausa_asr_filtered_aug...</td>\n",
       "      <td>me ya sa aka rubuta takardar 'yancin kai</td>\n",
       "      <td>me ya sa ilimi mai kyau yake da muhimmanci</td>\n",
       "      <td>Yaya za mu iya tabbatar da samar da kaya mai t...</td>\n",
       "      <td>NaN</td>\n",
       "      <td>NaN</td>\n",
       "    </tr>\n",
       "    <tr>\n",
       "      <th>freq</th>\n",
       "      <td>1</td>\n",
       "      <td>5</td>\n",
       "      <td>5</td>\n",
       "      <td>1</td>\n",
       "      <td>NaN</td>\n",
       "      <td>NaN</td>\n",
       "    </tr>\n",
       "    <tr>\n",
       "      <th>mean</th>\n",
       "      <td>NaN</td>\n",
       "      <td>NaN</td>\n",
       "      <td>NaN</td>\n",
       "      <td>NaN</td>\n",
       "      <td>4.215951</td>\n",
       "      <td>1.001487</td>\n",
       "    </tr>\n",
       "    <tr>\n",
       "      <th>std</th>\n",
       "      <td>NaN</td>\n",
       "      <td>NaN</td>\n",
       "      <td>NaN</td>\n",
       "      <td>NaN</td>\n",
       "      <td>0.750225</td>\n",
       "      <td>0.024981</td>\n",
       "    </tr>\n",
       "    <tr>\n",
       "      <th>min</th>\n",
       "      <td>NaN</td>\n",
       "      <td>NaN</td>\n",
       "      <td>NaN</td>\n",
       "      <td>NaN</td>\n",
       "      <td>1.578688</td>\n",
       "      <td>0.850000</td>\n",
       "    </tr>\n",
       "    <tr>\n",
       "      <th>25%</th>\n",
       "      <td>NaN</td>\n",
       "      <td>NaN</td>\n",
       "      <td>NaN</td>\n",
       "      <td>NaN</td>\n",
       "      <td>3.712000</td>\n",
       "      <td>1.000000</td>\n",
       "    </tr>\n",
       "    <tr>\n",
       "      <th>50%</th>\n",
       "      <td>NaN</td>\n",
       "      <td>NaN</td>\n",
       "      <td>NaN</td>\n",
       "      <td>NaN</td>\n",
       "      <td>4.170687</td>\n",
       "      <td>1.000000</td>\n",
       "    </tr>\n",
       "    <tr>\n",
       "      <th>75%</th>\n",
       "      <td>NaN</td>\n",
       "      <td>NaN</td>\n",
       "      <td>NaN</td>\n",
       "      <td>NaN</td>\n",
       "      <td>4.682688</td>\n",
       "      <td>1.019231</td>\n",
       "    </tr>\n",
       "    <tr>\n",
       "      <th>max</th>\n",
       "      <td>NaN</td>\n",
       "      <td>NaN</td>\n",
       "      <td>NaN</td>\n",
       "      <td>NaN</td>\n",
       "      <td>9.002688</td>\n",
       "      <td>1.060000</td>\n",
       "    </tr>\n",
       "  </tbody>\n",
       "</table>\n",
       "</div>"
      ],
      "text/plain": [
       "                                           audio_filepath  \\\n",
       "count                                              490475   \n",
       "unique                                             490475   \n",
       "top     /mnt/md0/synvoices/data/hausa_asr_filtered_aug...   \n",
       "freq                                                    1   \n",
       "mean                                                  NaN   \n",
       "std                                                   NaN   \n",
       "min                                                   NaN   \n",
       "25%                                                   NaN   \n",
       "50%                                                   NaN   \n",
       "75%                                                   NaN   \n",
       "max                                                   NaN   \n",
       "\n",
       "                                            text  \\\n",
       "count                                     490475   \n",
       "unique                                    489383   \n",
       "top     me ya sa aka rubuta takardar 'yancin kai   \n",
       "freq                                           5   \n",
       "mean                                         NaN   \n",
       "std                                          NaN   \n",
       "min                                          NaN   \n",
       "25%                                          NaN   \n",
       "50%                                          NaN   \n",
       "75%                                          NaN   \n",
       "max                                          NaN   \n",
       "\n",
       "                                         pred_text  \\\n",
       "count                                       490475   \n",
       "unique                                      489041   \n",
       "top     me ya sa ilimi mai kyau yake da muhimmanci   \n",
       "freq                                             5   \n",
       "mean                                           NaN   \n",
       "std                                            NaN   \n",
       "min                                            NaN   \n",
       "25%                                            NaN   \n",
       "50%                                            NaN   \n",
       "75%                                            NaN   \n",
       "max                                            NaN   \n",
       "\n",
       "                                            original_text       duration  \\\n",
       "count                                              490475  490475.000000   \n",
       "unique                                             490475            NaN   \n",
       "top     Yaya za mu iya tabbatar da samar da kaya mai t...            NaN   \n",
       "freq                                                    1            NaN   \n",
       "mean                                                  NaN       4.215951   \n",
       "std                                                   NaN       0.750225   \n",
       "min                                                   NaN       1.578688   \n",
       "25%                                                   NaN       3.712000   \n",
       "50%                                                   NaN       4.170687   \n",
       "75%                                                   NaN       4.682688   \n",
       "max                                                   NaN       9.002688   \n",
       "\n",
       "                ratio  \n",
       "count   490475.000000  \n",
       "unique            NaN  \n",
       "top               NaN  \n",
       "freq              NaN  \n",
       "mean         1.001487  \n",
       "std          0.024981  \n",
       "min          0.850000  \n",
       "25%          1.000000  \n",
       "50%          1.000000  \n",
       "75%          1.019231  \n",
       "max          1.060000  "
      ]
     },
     "execution_count": 4,
     "metadata": {},
     "output_type": "execute_result"
    }
   ],
   "source": [
    "df = pd.DataFrame(data)\n",
    "df.describe(include=\"all\")"
   ]
  },
  {
   "cell_type": "code",
   "execution_count": 5,
   "metadata": {},
   "outputs": [
    {
     "data": {
      "application/vnd.microsoft.datawrangler.viewer.v0+json": {
       "columns": [
        {
         "name": "index",
         "rawType": "object",
         "type": "string"
        },
        {
         "name": "audio_filepath",
         "rawType": "object",
         "type": "unknown"
        },
        {
         "name": "text",
         "rawType": "object",
         "type": "unknown"
        },
        {
         "name": "pred_text",
         "rawType": "object",
         "type": "unknown"
        },
        {
         "name": "original_text",
         "rawType": "object",
         "type": "unknown"
        },
        {
         "name": "duration",
         "rawType": "float64",
         "type": "float"
        },
        {
         "name": "ratio",
         "rawType": "float64",
         "type": "float"
        }
       ],
       "conversionMethod": "pd.DataFrame",
       "ref": "5128858a-832a-4826-85fa-242a51cd896f",
       "rows": [
        [
         "count",
         "489382",
         "489382",
         "489382",
         "489382",
         "489382.0",
         "489382.0"
        ],
        [
         "unique",
         "489382",
         "489382",
         "488123",
         "489382",
         null,
         null
        ],
        [
         "top",
         "/mnt/md0/synvoices/data/hausa_asr_filtered_augmented/clips/b63fe98edbe1bb8ec8a0fd7b1f97b1a1.wav",
         "yaya za mu iya tabbatar da samar da kaya mai tsabta",
         "me ya sa ilimi mai kyau yake da muhimmanci",
         "Yaya za mu iya tabbatar da samar da kaya mai tsabta?",
         null,
         null
        ],
        [
         "freq",
         "1",
         "1",
         "5",
         "1",
         null,
         null
        ],
        [
         "mean",
         null,
         null,
         null,
         null,
         "4.21634845414727",
         "1.0014885925646444"
        ],
        [
         "std",
         null,
         null,
         null,
         null,
         "0.7502837283188649",
         "0.024980258214223287"
        ],
        [
         "min",
         null,
         null,
         null,
         null,
         "1.5786875",
         "0.85"
        ],
        [
         "25%",
         null,
         null,
         null,
         null,
         "3.712",
         "1.0"
        ],
        [
         "50%",
         null,
         null,
         null,
         null,
         "4.1706875",
         "1.0"
        ],
        [
         "75%",
         null,
         null,
         null,
         null,
         "4.6826875",
         "1.0192307692"
        ],
        [
         "max",
         null,
         null,
         null,
         null,
         "9.0026875",
         "1.06"
        ]
       ],
       "shape": {
        "columns": 6,
        "rows": 11
       }
      },
      "text/html": [
       "<div>\n",
       "<style scoped>\n",
       "    .dataframe tbody tr th:only-of-type {\n",
       "        vertical-align: middle;\n",
       "    }\n",
       "\n",
       "    .dataframe tbody tr th {\n",
       "        vertical-align: top;\n",
       "    }\n",
       "\n",
       "    .dataframe thead th {\n",
       "        text-align: right;\n",
       "    }\n",
       "</style>\n",
       "<table border=\"1\" class=\"dataframe\">\n",
       "  <thead>\n",
       "    <tr style=\"text-align: right;\">\n",
       "      <th></th>\n",
       "      <th>audio_filepath</th>\n",
       "      <th>text</th>\n",
       "      <th>pred_text</th>\n",
       "      <th>original_text</th>\n",
       "      <th>duration</th>\n",
       "      <th>ratio</th>\n",
       "    </tr>\n",
       "  </thead>\n",
       "  <tbody>\n",
       "    <tr>\n",
       "      <th>count</th>\n",
       "      <td>489382</td>\n",
       "      <td>489382</td>\n",
       "      <td>489382</td>\n",
       "      <td>489382</td>\n",
       "      <td>489382.000000</td>\n",
       "      <td>489382.000000</td>\n",
       "    </tr>\n",
       "    <tr>\n",
       "      <th>unique</th>\n",
       "      <td>489382</td>\n",
       "      <td>489382</td>\n",
       "      <td>488123</td>\n",
       "      <td>489382</td>\n",
       "      <td>NaN</td>\n",
       "      <td>NaN</td>\n",
       "    </tr>\n",
       "    <tr>\n",
       "      <th>top</th>\n",
       "      <td>/mnt/md0/synvoices/data/hausa_asr_filtered_aug...</td>\n",
       "      <td>yaya za mu iya tabbatar da samar da kaya mai t...</td>\n",
       "      <td>me ya sa ilimi mai kyau yake da muhimmanci</td>\n",
       "      <td>Yaya za mu iya tabbatar da samar da kaya mai t...</td>\n",
       "      <td>NaN</td>\n",
       "      <td>NaN</td>\n",
       "    </tr>\n",
       "    <tr>\n",
       "      <th>freq</th>\n",
       "      <td>1</td>\n",
       "      <td>1</td>\n",
       "      <td>5</td>\n",
       "      <td>1</td>\n",
       "      <td>NaN</td>\n",
       "      <td>NaN</td>\n",
       "    </tr>\n",
       "    <tr>\n",
       "      <th>mean</th>\n",
       "      <td>NaN</td>\n",
       "      <td>NaN</td>\n",
       "      <td>NaN</td>\n",
       "      <td>NaN</td>\n",
       "      <td>4.216348</td>\n",
       "      <td>1.001489</td>\n",
       "    </tr>\n",
       "    <tr>\n",
       "      <th>std</th>\n",
       "      <td>NaN</td>\n",
       "      <td>NaN</td>\n",
       "      <td>NaN</td>\n",
       "      <td>NaN</td>\n",
       "      <td>0.750284</td>\n",
       "      <td>0.024980</td>\n",
       "    </tr>\n",
       "    <tr>\n",
       "      <th>min</th>\n",
       "      <td>NaN</td>\n",
       "      <td>NaN</td>\n",
       "      <td>NaN</td>\n",
       "      <td>NaN</td>\n",
       "      <td>1.578688</td>\n",
       "      <td>0.850000</td>\n",
       "    </tr>\n",
       "    <tr>\n",
       "      <th>25%</th>\n",
       "      <td>NaN</td>\n",
       "      <td>NaN</td>\n",
       "      <td>NaN</td>\n",
       "      <td>NaN</td>\n",
       "      <td>3.712000</td>\n",
       "      <td>1.000000</td>\n",
       "    </tr>\n",
       "    <tr>\n",
       "      <th>50%</th>\n",
       "      <td>NaN</td>\n",
       "      <td>NaN</td>\n",
       "      <td>NaN</td>\n",
       "      <td>NaN</td>\n",
       "      <td>4.170687</td>\n",
       "      <td>1.000000</td>\n",
       "    </tr>\n",
       "    <tr>\n",
       "      <th>75%</th>\n",
       "      <td>NaN</td>\n",
       "      <td>NaN</td>\n",
       "      <td>NaN</td>\n",
       "      <td>NaN</td>\n",
       "      <td>4.682688</td>\n",
       "      <td>1.019231</td>\n",
       "    </tr>\n",
       "    <tr>\n",
       "      <th>max</th>\n",
       "      <td>NaN</td>\n",
       "      <td>NaN</td>\n",
       "      <td>NaN</td>\n",
       "      <td>NaN</td>\n",
       "      <td>9.002688</td>\n",
       "      <td>1.060000</td>\n",
       "    </tr>\n",
       "  </tbody>\n",
       "</table>\n",
       "</div>"
      ],
      "text/plain": [
       "                                           audio_filepath  \\\n",
       "count                                              489382   \n",
       "unique                                             489382   \n",
       "top     /mnt/md0/synvoices/data/hausa_asr_filtered_aug...   \n",
       "freq                                                    1   \n",
       "mean                                                  NaN   \n",
       "std                                                   NaN   \n",
       "min                                                   NaN   \n",
       "25%                                                   NaN   \n",
       "50%                                                   NaN   \n",
       "75%                                                   NaN   \n",
       "max                                                   NaN   \n",
       "\n",
       "                                                     text  \\\n",
       "count                                              489382   \n",
       "unique                                             489382   \n",
       "top     yaya za mu iya tabbatar da samar da kaya mai t...   \n",
       "freq                                                    1   \n",
       "mean                                                  NaN   \n",
       "std                                                   NaN   \n",
       "min                                                   NaN   \n",
       "25%                                                   NaN   \n",
       "50%                                                   NaN   \n",
       "75%                                                   NaN   \n",
       "max                                                   NaN   \n",
       "\n",
       "                                         pred_text  \\\n",
       "count                                       489382   \n",
       "unique                                      488123   \n",
       "top     me ya sa ilimi mai kyau yake da muhimmanci   \n",
       "freq                                             5   \n",
       "mean                                           NaN   \n",
       "std                                            NaN   \n",
       "min                                            NaN   \n",
       "25%                                            NaN   \n",
       "50%                                            NaN   \n",
       "75%                                            NaN   \n",
       "max                                            NaN   \n",
       "\n",
       "                                            original_text       duration  \\\n",
       "count                                              489382  489382.000000   \n",
       "unique                                             489382            NaN   \n",
       "top     Yaya za mu iya tabbatar da samar da kaya mai t...            NaN   \n",
       "freq                                                    1            NaN   \n",
       "mean                                                  NaN       4.216348   \n",
       "std                                                   NaN       0.750284   \n",
       "min                                                   NaN       1.578688   \n",
       "25%                                                   NaN       3.712000   \n",
       "50%                                                   NaN       4.170687   \n",
       "75%                                                   NaN       4.682688   \n",
       "max                                                   NaN       9.002688   \n",
       "\n",
       "                ratio  \n",
       "count   489382.000000  \n",
       "unique            NaN  \n",
       "top               NaN  \n",
       "freq              NaN  \n",
       "mean         1.001489  \n",
       "std          0.024980  \n",
       "min          0.850000  \n",
       "25%          1.000000  \n",
       "50%          1.000000  \n",
       "75%          1.019231  \n",
       "max          1.060000  "
      ]
     },
     "execution_count": 5,
     "metadata": {},
     "output_type": "execute_result"
    }
   ],
   "source": [
    "# strip leading and trailing whitespace from the text column\n",
    "df[\"text\"] = df[\"text\"].str.strip()\n",
    "\n",
    "# drop duplicates\n",
    "df = df.drop_duplicates(subset=[\"text\"])\n",
    "df.describe(include=\"all\")"
   ]
  },
  {
   "cell_type": "code",
   "execution_count": 6,
   "metadata": {},
   "outputs": [
    {
     "data": {
      "text/plain": [
       "np.float64(573.168066440972)"
      ]
     },
     "execution_count": 6,
     "metadata": {},
     "output_type": "execute_result"
    }
   ],
   "source": [
    "# total duration in hours\n",
    "df['duration'].sum() / 3600"
   ]
  },
  {
   "cell_type": "code",
   "execution_count": 7,
   "metadata": {},
   "outputs": [
    {
     "data": {
      "application/vnd.microsoft.datawrangler.viewer.v0+json": {
       "columns": [
        {
         "name": "index",
         "rawType": "object",
         "type": "string"
        },
        {
         "name": "audio_filepath",
         "rawType": "object",
         "type": "unknown"
        },
        {
         "name": "text",
         "rawType": "object",
         "type": "unknown"
        },
        {
         "name": "pred_text",
         "rawType": "object",
         "type": "unknown"
        },
        {
         "name": "original_text",
         "rawType": "object",
         "type": "unknown"
        },
        {
         "name": "duration",
         "rawType": "float64",
         "type": "float"
        },
        {
         "name": "ratio",
         "rawType": "float64",
         "type": "float"
        }
       ],
       "conversionMethod": "pd.DataFrame",
       "ref": "56dba4e9-7801-4a93-afe5-48a037ffbcd3",
       "rows": [
        [
         "count",
         "203643",
         "203643",
         "203643",
         "203643",
         "203643.0",
         "203643.0"
        ],
        [
         "unique",
         "203643",
         "203643",
         "203038",
         "203643",
         null,
         null
        ],
        [
         "top",
         "/mnt/md0/synvoices/data/hausa_asr_filtered_augmented/clips/b63fe98edbe1bb8ec8a0fd7b1f97b1a1.wav",
         "yaya za mu iya tabbatar da samar da kaya mai tsabta",
         "me ya sa ilimi yake da muhimmanci ga matasa",
         "Yaya za mu iya tabbatar da samar da kaya mai tsabta?",
         null,
         null
        ],
        [
         "freq",
         "1",
         "1",
         "5",
         "1",
         null,
         null
        ],
        [
         "mean",
         null,
         null,
         null,
         null,
         "4.176178614965896",
         "0.9999705318096678"
        ],
        [
         "std",
         null,
         null,
         null,
         null,
         "0.7364301547295352",
         "0.02599504642790532"
        ],
        [
         "min",
         null,
         null,
         null,
         null,
         "1.5786875",
         "0.85"
        ],
        [
         "25%",
         null,
         null,
         null,
         null,
         "3.6586875",
         "0.9827586207"
        ],
        [
         "50%",
         null,
         null,
         null,
         null,
         "4.128",
         "1.0"
        ],
        [
         "75%",
         null,
         null,
         null,
         null,
         "4.64",
         "1.0192307692"
        ],
        [
         "max",
         null,
         null,
         null,
         null,
         "9.0026875",
         "1.06"
        ]
       ],
       "shape": {
        "columns": 6,
        "rows": 11
       }
      },
      "text/html": [
       "<div>\n",
       "<style scoped>\n",
       "    .dataframe tbody tr th:only-of-type {\n",
       "        vertical-align: middle;\n",
       "    }\n",
       "\n",
       "    .dataframe tbody tr th {\n",
       "        vertical-align: top;\n",
       "    }\n",
       "\n",
       "    .dataframe thead th {\n",
       "        text-align: right;\n",
       "    }\n",
       "</style>\n",
       "<table border=\"1\" class=\"dataframe\">\n",
       "  <thead>\n",
       "    <tr style=\"text-align: right;\">\n",
       "      <th></th>\n",
       "      <th>audio_filepath</th>\n",
       "      <th>text</th>\n",
       "      <th>pred_text</th>\n",
       "      <th>original_text</th>\n",
       "      <th>duration</th>\n",
       "      <th>ratio</th>\n",
       "    </tr>\n",
       "  </thead>\n",
       "  <tbody>\n",
       "    <tr>\n",
       "      <th>count</th>\n",
       "      <td>203643</td>\n",
       "      <td>203643</td>\n",
       "      <td>203643</td>\n",
       "      <td>203643</td>\n",
       "      <td>203643.000000</td>\n",
       "      <td>203643.000000</td>\n",
       "    </tr>\n",
       "    <tr>\n",
       "      <th>unique</th>\n",
       "      <td>203643</td>\n",
       "      <td>203643</td>\n",
       "      <td>203038</td>\n",
       "      <td>203643</td>\n",
       "      <td>NaN</td>\n",
       "      <td>NaN</td>\n",
       "    </tr>\n",
       "    <tr>\n",
       "      <th>top</th>\n",
       "      <td>/mnt/md0/synvoices/data/hausa_asr_filtered_aug...</td>\n",
       "      <td>yaya za mu iya tabbatar da samar da kaya mai t...</td>\n",
       "      <td>me ya sa ilimi yake da muhimmanci ga matasa</td>\n",
       "      <td>Yaya za mu iya tabbatar da samar da kaya mai t...</td>\n",
       "      <td>NaN</td>\n",
       "      <td>NaN</td>\n",
       "    </tr>\n",
       "    <tr>\n",
       "      <th>freq</th>\n",
       "      <td>1</td>\n",
       "      <td>1</td>\n",
       "      <td>5</td>\n",
       "      <td>1</td>\n",
       "      <td>NaN</td>\n",
       "      <td>NaN</td>\n",
       "    </tr>\n",
       "    <tr>\n",
       "      <th>mean</th>\n",
       "      <td>NaN</td>\n",
       "      <td>NaN</td>\n",
       "      <td>NaN</td>\n",
       "      <td>NaN</td>\n",
       "      <td>4.176179</td>\n",
       "      <td>0.999971</td>\n",
       "    </tr>\n",
       "    <tr>\n",
       "      <th>std</th>\n",
       "      <td>NaN</td>\n",
       "      <td>NaN</td>\n",
       "      <td>NaN</td>\n",
       "      <td>NaN</td>\n",
       "      <td>0.736430</td>\n",
       "      <td>0.025995</td>\n",
       "    </tr>\n",
       "    <tr>\n",
       "      <th>min</th>\n",
       "      <td>NaN</td>\n",
       "      <td>NaN</td>\n",
       "      <td>NaN</td>\n",
       "      <td>NaN</td>\n",
       "      <td>1.578688</td>\n",
       "      <td>0.850000</td>\n",
       "    </tr>\n",
       "    <tr>\n",
       "      <th>25%</th>\n",
       "      <td>NaN</td>\n",
       "      <td>NaN</td>\n",
       "      <td>NaN</td>\n",
       "      <td>NaN</td>\n",
       "      <td>3.658688</td>\n",
       "      <td>0.982759</td>\n",
       "    </tr>\n",
       "    <tr>\n",
       "      <th>50%</th>\n",
       "      <td>NaN</td>\n",
       "      <td>NaN</td>\n",
       "      <td>NaN</td>\n",
       "      <td>NaN</td>\n",
       "      <td>4.128000</td>\n",
       "      <td>1.000000</td>\n",
       "    </tr>\n",
       "    <tr>\n",
       "      <th>75%</th>\n",
       "      <td>NaN</td>\n",
       "      <td>NaN</td>\n",
       "      <td>NaN</td>\n",
       "      <td>NaN</td>\n",
       "      <td>4.640000</td>\n",
       "      <td>1.019231</td>\n",
       "    </tr>\n",
       "    <tr>\n",
       "      <th>max</th>\n",
       "      <td>NaN</td>\n",
       "      <td>NaN</td>\n",
       "      <td>NaN</td>\n",
       "      <td>NaN</td>\n",
       "      <td>9.002688</td>\n",
       "      <td>1.060000</td>\n",
       "    </tr>\n",
       "  </tbody>\n",
       "</table>\n",
       "</div>"
      ],
      "text/plain": [
       "                                           audio_filepath  \\\n",
       "count                                              203643   \n",
       "unique                                             203643   \n",
       "top     /mnt/md0/synvoices/data/hausa_asr_filtered_aug...   \n",
       "freq                                                    1   \n",
       "mean                                                  NaN   \n",
       "std                                                   NaN   \n",
       "min                                                   NaN   \n",
       "25%                                                   NaN   \n",
       "50%                                                   NaN   \n",
       "75%                                                   NaN   \n",
       "max                                                   NaN   \n",
       "\n",
       "                                                     text  \\\n",
       "count                                              203643   \n",
       "unique                                             203643   \n",
       "top     yaya za mu iya tabbatar da samar da kaya mai t...   \n",
       "freq                                                    1   \n",
       "mean                                                  NaN   \n",
       "std                                                   NaN   \n",
       "min                                                   NaN   \n",
       "25%                                                   NaN   \n",
       "50%                                                   NaN   \n",
       "75%                                                   NaN   \n",
       "max                                                   NaN   \n",
       "\n",
       "                                          pred_text  \\\n",
       "count                                        203643   \n",
       "unique                                       203038   \n",
       "top     me ya sa ilimi yake da muhimmanci ga matasa   \n",
       "freq                                              5   \n",
       "mean                                            NaN   \n",
       "std                                             NaN   \n",
       "min                                             NaN   \n",
       "25%                                             NaN   \n",
       "50%                                             NaN   \n",
       "75%                                             NaN   \n",
       "max                                             NaN   \n",
       "\n",
       "                                            original_text       duration  \\\n",
       "count                                              203643  203643.000000   \n",
       "unique                                             203643            NaN   \n",
       "top     Yaya za mu iya tabbatar da samar da kaya mai t...            NaN   \n",
       "freq                                                    1            NaN   \n",
       "mean                                                  NaN       4.176179   \n",
       "std                                                   NaN       0.736430   \n",
       "min                                                   NaN       1.578688   \n",
       "25%                                                   NaN       3.658688   \n",
       "50%                                                   NaN       4.128000   \n",
       "75%                                                   NaN       4.640000   \n",
       "max                                                   NaN       9.002688   \n",
       "\n",
       "                ratio  \n",
       "count   203643.000000  \n",
       "unique            NaN  \n",
       "top               NaN  \n",
       "freq              NaN  \n",
       "mean         0.999971  \n",
       "std          0.025995  \n",
       "min          0.850000  \n",
       "25%          0.982759  \n",
       "50%          1.000000  \n",
       "75%          1.019231  \n",
       "max          1.060000  "
      ]
     },
     "execution_count": 7,
     "metadata": {},
     "output_type": "execute_result"
    }
   ],
   "source": [
    "# get samples that are questions\n",
    "questions = df[df['original_text'].str.endswith('?')]\n",
    "questions.describe(include=\"all\")"
   ]
  },
  {
   "cell_type": "code",
   "execution_count": 8,
   "metadata": {},
   "outputs": [
    {
     "data": {
      "application/vnd.microsoft.datawrangler.viewer.v0+json": {
       "columns": [
        {
         "name": "index",
         "rawType": "int64",
         "type": "integer"
        },
        {
         "name": "audio_filepath",
         "rawType": "object",
         "type": "string"
        },
        {
         "name": "text",
         "rawType": "object",
         "type": "string"
        },
        {
         "name": "pred_text",
         "rawType": "object",
         "type": "string"
        },
        {
         "name": "original_text",
         "rawType": "object",
         "type": "string"
        },
        {
         "name": "duration",
         "rawType": "float64",
         "type": "float"
        },
        {
         "name": "ratio",
         "rawType": "float64",
         "type": "float"
        }
       ],
       "conversionMethod": "pd.DataFrame",
       "ref": "0c88a68a-ef98-4c12-9e3b-ab23ee0ebb5d",
       "rows": [
        [
         "3",
         "/mnt/md0/synvoices/data/hausa_asr_filtered_augmented/clips/6ec18928adb0bc54a530513027adb221.wav",
         "me yasa talauci ke ci gaba da damun al'umma",
         "meyasa tan nauci ke cigaba da damun al'umma",
         "Me yasa talauci ke ci gaba da damun al'umma?",
         "4.3626875",
         "1.0"
        ],
        [
         "5",
         "/mnt/md0/synvoices/data/hausa_asr_filtered_augmented/clips/d75961c829ad4c1748a61dcb5871f149.wav",
         "shin hadin kai zai iya taimakawa wajen kare muhalli",
         "shin hadin kai zai iya taimakawa wajen kare mu halli",
         "Shin hadin kai zai iya taimakawa wajen kare muhalli?",
         "4.1706875",
         "1.0196078431"
        ],
        [
         "10",
         "/mnt/md0/synvoices/data/hausa_asr_filtered_augmented/clips/3e8080e48c64fe7655daae9ffe5fc5f7.wav",
         "me yasa ake kawo kyaututtuka a bukukuwa",
         "meye sa ake kawo caututtuka abu kuwa",
         "Me yasa ake kawo kyaututtuka a bukukuwa?",
         "3.4346875",
         "0.9230769231"
        ],
        [
         "12",
         "/mnt/md0/synvoices/data/hausa_asr_filtered_augmented/clips/03091e900b656d31003c1974324d6c39.wav",
         "shin akwai hanyoyi na musamman don mayar da unguwa mai wadata",
         "shin akwai hanyoyi na musamman to mayar da unguwa mai wadata",
         "Shin akwai hanyoyi na musamman don mayar da unguwa mai wadata?",
         "4.8746875",
         "0.9836065574"
        ],
        [
         "13",
         "/mnt/md0/synvoices/data/hausa_asr_filtered_augmented/clips/c6673d0546f7575c912b2d4d4516d47d.wav",
         "shin fasaha tana taimaka maka wajen karatu",
         "shin fasaha tana taimaka maka wajen karatum",
         "Shin fasaha tana taimaka maka wajen karatu?",
         "3.7546875",
         "1.0238095238"
        ]
       ],
       "shape": {
        "columns": 6,
        "rows": 5
       }
      },
      "text/html": [
       "<div>\n",
       "<style scoped>\n",
       "    .dataframe tbody tr th:only-of-type {\n",
       "        vertical-align: middle;\n",
       "    }\n",
       "\n",
       "    .dataframe tbody tr th {\n",
       "        vertical-align: top;\n",
       "    }\n",
       "\n",
       "    .dataframe thead th {\n",
       "        text-align: right;\n",
       "    }\n",
       "</style>\n",
       "<table border=\"1\" class=\"dataframe\">\n",
       "  <thead>\n",
       "    <tr style=\"text-align: right;\">\n",
       "      <th></th>\n",
       "      <th>audio_filepath</th>\n",
       "      <th>text</th>\n",
       "      <th>pred_text</th>\n",
       "      <th>original_text</th>\n",
       "      <th>duration</th>\n",
       "      <th>ratio</th>\n",
       "    </tr>\n",
       "  </thead>\n",
       "  <tbody>\n",
       "    <tr>\n",
       "      <th>3</th>\n",
       "      <td>/mnt/md0/synvoices/data/hausa_asr_filtered_aug...</td>\n",
       "      <td>me yasa talauci ke ci gaba da damun al'umma</td>\n",
       "      <td>meyasa tan nauci ke cigaba da damun al'umma</td>\n",
       "      <td>Me yasa talauci ke ci gaba da damun al'umma?</td>\n",
       "      <td>4.362687</td>\n",
       "      <td>1.000000</td>\n",
       "    </tr>\n",
       "    <tr>\n",
       "      <th>5</th>\n",
       "      <td>/mnt/md0/synvoices/data/hausa_asr_filtered_aug...</td>\n",
       "      <td>shin hadin kai zai iya taimakawa wajen kare mu...</td>\n",
       "      <td>shin hadin kai zai iya taimakawa wajen kare mu...</td>\n",
       "      <td>Shin hadin kai zai iya taimakawa wajen kare mu...</td>\n",
       "      <td>4.170687</td>\n",
       "      <td>1.019608</td>\n",
       "    </tr>\n",
       "    <tr>\n",
       "      <th>10</th>\n",
       "      <td>/mnt/md0/synvoices/data/hausa_asr_filtered_aug...</td>\n",
       "      <td>me yasa ake kawo kyaututtuka a bukukuwa</td>\n",
       "      <td>meye sa ake kawo caututtuka abu kuwa</td>\n",
       "      <td>Me yasa ake kawo kyaututtuka a bukukuwa?</td>\n",
       "      <td>3.434687</td>\n",
       "      <td>0.923077</td>\n",
       "    </tr>\n",
       "    <tr>\n",
       "      <th>12</th>\n",
       "      <td>/mnt/md0/synvoices/data/hausa_asr_filtered_aug...</td>\n",
       "      <td>shin akwai hanyoyi na musamman don mayar da un...</td>\n",
       "      <td>shin akwai hanyoyi na musamman to mayar da ung...</td>\n",
       "      <td>Shin akwai hanyoyi na musamman don mayar da un...</td>\n",
       "      <td>4.874688</td>\n",
       "      <td>0.983607</td>\n",
       "    </tr>\n",
       "    <tr>\n",
       "      <th>13</th>\n",
       "      <td>/mnt/md0/synvoices/data/hausa_asr_filtered_aug...</td>\n",
       "      <td>shin fasaha tana taimaka maka wajen karatu</td>\n",
       "      <td>shin fasaha tana taimaka maka wajen karatum</td>\n",
       "      <td>Shin fasaha tana taimaka maka wajen karatu?</td>\n",
       "      <td>3.754688</td>\n",
       "      <td>1.023810</td>\n",
       "    </tr>\n",
       "  </tbody>\n",
       "</table>\n",
       "</div>"
      ],
      "text/plain": [
       "                                       audio_filepath  \\\n",
       "3   /mnt/md0/synvoices/data/hausa_asr_filtered_aug...   \n",
       "5   /mnt/md0/synvoices/data/hausa_asr_filtered_aug...   \n",
       "10  /mnt/md0/synvoices/data/hausa_asr_filtered_aug...   \n",
       "12  /mnt/md0/synvoices/data/hausa_asr_filtered_aug...   \n",
       "13  /mnt/md0/synvoices/data/hausa_asr_filtered_aug...   \n",
       "\n",
       "                                                 text  \\\n",
       "3         me yasa talauci ke ci gaba da damun al'umma   \n",
       "5   shin hadin kai zai iya taimakawa wajen kare mu...   \n",
       "10            me yasa ake kawo kyaututtuka a bukukuwa   \n",
       "12  shin akwai hanyoyi na musamman don mayar da un...   \n",
       "13         shin fasaha tana taimaka maka wajen karatu   \n",
       "\n",
       "                                            pred_text  \\\n",
       "3         meyasa tan nauci ke cigaba da damun al'umma   \n",
       "5   shin hadin kai zai iya taimakawa wajen kare mu...   \n",
       "10               meye sa ake kawo caututtuka abu kuwa   \n",
       "12  shin akwai hanyoyi na musamman to mayar da ung...   \n",
       "13        shin fasaha tana taimaka maka wajen karatum   \n",
       "\n",
       "                                        original_text  duration     ratio  \n",
       "3        Me yasa talauci ke ci gaba da damun al'umma?  4.362687  1.000000  \n",
       "5   Shin hadin kai zai iya taimakawa wajen kare mu...  4.170687  1.019608  \n",
       "10           Me yasa ake kawo kyaututtuka a bukukuwa?  3.434687  0.923077  \n",
       "12  Shin akwai hanyoyi na musamman don mayar da un...  4.874688  0.983607  \n",
       "13        Shin fasaha tana taimaka maka wajen karatu?  3.754688  1.023810  "
      ]
     },
     "execution_count": 8,
     "metadata": {},
     "output_type": "execute_result"
    }
   ],
   "source": [
    "questions.head()"
   ]
  },
  {
   "cell_type": "code",
   "execution_count": 9,
   "metadata": {},
   "outputs": [
    {
     "data": {
      "text/plain": [
       "0.416122783428896"
      ]
     },
     "execution_count": 9,
     "metadata": {},
     "output_type": "execute_result"
    }
   ],
   "source": [
    "# ratio of questions to total samples\n",
    "questions_ratio = len(questions) / len(df)\n",
    "questions_ratio"
   ]
  },
  {
   "cell_type": "code",
   "execution_count": 10,
   "metadata": {},
   "outputs": [
    {
     "data": {
      "text/plain": [
       "np.float64(236.23598380208333)"
      ]
     },
     "execution_count": 10,
     "metadata": {},
     "output_type": "execute_result"
    }
   ],
   "source": [
    "questions['duration'].sum() / 3600"
   ]
  },
  {
   "cell_type": "code",
   "execution_count": 11,
   "metadata": {},
   "outputs": [
    {
     "data": {
      "application/vnd.microsoft.datawrangler.viewer.v0+json": {
       "columns": [
        {
         "name": "index",
         "rawType": "object",
         "type": "string"
        },
        {
         "name": "audio_filepath",
         "rawType": "object",
         "type": "unknown"
        },
        {
         "name": "text",
         "rawType": "object",
         "type": "unknown"
        },
        {
         "name": "pred_text",
         "rawType": "object",
         "type": "unknown"
        },
        {
         "name": "original_text",
         "rawType": "object",
         "type": "unknown"
        },
        {
         "name": "duration",
         "rawType": "float64",
         "type": "float"
        },
        {
         "name": "ratio",
         "rawType": "float64",
         "type": "float"
        }
       ],
       "conversionMethod": "pd.DataFrame",
       "ref": "3c330df5-b364-45d5-90a9-92419173a910",
       "rows": [
        [
         "count",
         "97443",
         "97443",
         "97443",
         "97443",
         "97443.0",
         "97443.0"
        ],
        [
         "unique",
         "97443",
         "97443",
         "97279",
         "97443",
         null,
         null
        ],
        [
         "top",
         "/mnt/md0/synvoices/data/hausa_asr_filtered_augmented/clips/d74a4ef815faecd43e35b7f67fcb00af.wav",
         "ta yaya za mu tabbatar da daidaiton kowa a cikin birni",
         "me ya sa ilimi mai kyau yake da muhimmanci",
         "Ta yaya za mu tabbatar da daidaiton kowa a cikin birni?",
         null,
         null
        ],
        [
         "freq",
         "1",
         "1",
         "4",
         "1",
         null,
         null
        ],
        [
         "mean",
         null,
         null,
         null,
         null,
         "4.17748020445286",
         "0.9999072975856264"
        ],
        [
         "std",
         null,
         null,
         null,
         null,
         "0.7351153529467033",
         "0.02607051468342805"
        ],
        [
         "min",
         null,
         null,
         null,
         null,
         "1.664",
         "0.85"
        ],
        [
         "25%",
         null,
         null,
         null,
         null,
         "3.6586875",
         "0.9827586207"
        ],
        [
         "50%",
         null,
         null,
         null,
         null,
         "4.128",
         "1.0"
        ],
        [
         "75%",
         null,
         null,
         null,
         null,
         "4.64",
         "1.0192307692"
        ],
        [
         "max",
         null,
         null,
         null,
         null,
         "9.0026875",
         "1.06"
        ]
       ],
       "shape": {
        "columns": 6,
        "rows": 11
       }
      },
      "text/html": [
       "<div>\n",
       "<style scoped>\n",
       "    .dataframe tbody tr th:only-of-type {\n",
       "        vertical-align: middle;\n",
       "    }\n",
       "\n",
       "    .dataframe tbody tr th {\n",
       "        vertical-align: top;\n",
       "    }\n",
       "\n",
       "    .dataframe thead th {\n",
       "        text-align: right;\n",
       "    }\n",
       "</style>\n",
       "<table border=\"1\" class=\"dataframe\">\n",
       "  <thead>\n",
       "    <tr style=\"text-align: right;\">\n",
       "      <th></th>\n",
       "      <th>audio_filepath</th>\n",
       "      <th>text</th>\n",
       "      <th>pred_text</th>\n",
       "      <th>original_text</th>\n",
       "      <th>duration</th>\n",
       "      <th>ratio</th>\n",
       "    </tr>\n",
       "  </thead>\n",
       "  <tbody>\n",
       "    <tr>\n",
       "      <th>count</th>\n",
       "      <td>97443</td>\n",
       "      <td>97443</td>\n",
       "      <td>97443</td>\n",
       "      <td>97443</td>\n",
       "      <td>97443.000000</td>\n",
       "      <td>97443.000000</td>\n",
       "    </tr>\n",
       "    <tr>\n",
       "      <th>unique</th>\n",
       "      <td>97443</td>\n",
       "      <td>97443</td>\n",
       "      <td>97279</td>\n",
       "      <td>97443</td>\n",
       "      <td>NaN</td>\n",
       "      <td>NaN</td>\n",
       "    </tr>\n",
       "    <tr>\n",
       "      <th>top</th>\n",
       "      <td>/mnt/md0/synvoices/data/hausa_asr_filtered_aug...</td>\n",
       "      <td>ta yaya za mu tabbatar da daidaiton kowa a cik...</td>\n",
       "      <td>me ya sa ilimi mai kyau yake da muhimmanci</td>\n",
       "      <td>Ta yaya za mu tabbatar da daidaiton kowa a cik...</td>\n",
       "      <td>NaN</td>\n",
       "      <td>NaN</td>\n",
       "    </tr>\n",
       "    <tr>\n",
       "      <th>freq</th>\n",
       "      <td>1</td>\n",
       "      <td>1</td>\n",
       "      <td>4</td>\n",
       "      <td>1</td>\n",
       "      <td>NaN</td>\n",
       "      <td>NaN</td>\n",
       "    </tr>\n",
       "    <tr>\n",
       "      <th>mean</th>\n",
       "      <td>NaN</td>\n",
       "      <td>NaN</td>\n",
       "      <td>NaN</td>\n",
       "      <td>NaN</td>\n",
       "      <td>4.177480</td>\n",
       "      <td>0.999907</td>\n",
       "    </tr>\n",
       "    <tr>\n",
       "      <th>std</th>\n",
       "      <td>NaN</td>\n",
       "      <td>NaN</td>\n",
       "      <td>NaN</td>\n",
       "      <td>NaN</td>\n",
       "      <td>0.735115</td>\n",
       "      <td>0.026071</td>\n",
       "    </tr>\n",
       "    <tr>\n",
       "      <th>min</th>\n",
       "      <td>NaN</td>\n",
       "      <td>NaN</td>\n",
       "      <td>NaN</td>\n",
       "      <td>NaN</td>\n",
       "      <td>1.664000</td>\n",
       "      <td>0.850000</td>\n",
       "    </tr>\n",
       "    <tr>\n",
       "      <th>25%</th>\n",
       "      <td>NaN</td>\n",
       "      <td>NaN</td>\n",
       "      <td>NaN</td>\n",
       "      <td>NaN</td>\n",
       "      <td>3.658688</td>\n",
       "      <td>0.982759</td>\n",
       "    </tr>\n",
       "    <tr>\n",
       "      <th>50%</th>\n",
       "      <td>NaN</td>\n",
       "      <td>NaN</td>\n",
       "      <td>NaN</td>\n",
       "      <td>NaN</td>\n",
       "      <td>4.128000</td>\n",
       "      <td>1.000000</td>\n",
       "    </tr>\n",
       "    <tr>\n",
       "      <th>75%</th>\n",
       "      <td>NaN</td>\n",
       "      <td>NaN</td>\n",
       "      <td>NaN</td>\n",
       "      <td>NaN</td>\n",
       "      <td>4.640000</td>\n",
       "      <td>1.019231</td>\n",
       "    </tr>\n",
       "    <tr>\n",
       "      <th>max</th>\n",
       "      <td>NaN</td>\n",
       "      <td>NaN</td>\n",
       "      <td>NaN</td>\n",
       "      <td>NaN</td>\n",
       "      <td>9.002688</td>\n",
       "      <td>1.060000</td>\n",
       "    </tr>\n",
       "  </tbody>\n",
       "</table>\n",
       "</div>"
      ],
      "text/plain": [
       "                                           audio_filepath  \\\n",
       "count                                               97443   \n",
       "unique                                              97443   \n",
       "top     /mnt/md0/synvoices/data/hausa_asr_filtered_aug...   \n",
       "freq                                                    1   \n",
       "mean                                                  NaN   \n",
       "std                                                   NaN   \n",
       "min                                                   NaN   \n",
       "25%                                                   NaN   \n",
       "50%                                                   NaN   \n",
       "75%                                                   NaN   \n",
       "max                                                   NaN   \n",
       "\n",
       "                                                     text  \\\n",
       "count                                               97443   \n",
       "unique                                              97443   \n",
       "top     ta yaya za mu tabbatar da daidaiton kowa a cik...   \n",
       "freq                                                    1   \n",
       "mean                                                  NaN   \n",
       "std                                                   NaN   \n",
       "min                                                   NaN   \n",
       "25%                                                   NaN   \n",
       "50%                                                   NaN   \n",
       "75%                                                   NaN   \n",
       "max                                                   NaN   \n",
       "\n",
       "                                         pred_text  \\\n",
       "count                                        97443   \n",
       "unique                                       97279   \n",
       "top     me ya sa ilimi mai kyau yake da muhimmanci   \n",
       "freq                                             4   \n",
       "mean                                           NaN   \n",
       "std                                            NaN   \n",
       "min                                            NaN   \n",
       "25%                                            NaN   \n",
       "50%                                            NaN   \n",
       "75%                                            NaN   \n",
       "max                                            NaN   \n",
       "\n",
       "                                            original_text      duration  \\\n",
       "count                                               97443  97443.000000   \n",
       "unique                                              97443           NaN   \n",
       "top     Ta yaya za mu tabbatar da daidaiton kowa a cik...           NaN   \n",
       "freq                                                    1           NaN   \n",
       "mean                                                  NaN      4.177480   \n",
       "std                                                   NaN      0.735115   \n",
       "min                                                   NaN      1.664000   \n",
       "25%                                                   NaN      3.658688   \n",
       "50%                                                   NaN      4.128000   \n",
       "75%                                                   NaN      4.640000   \n",
       "max                                                   NaN      9.002688   \n",
       "\n",
       "               ratio  \n",
       "count   97443.000000  \n",
       "unique           NaN  \n",
       "top              NaN  \n",
       "freq             NaN  \n",
       "mean        0.999907  \n",
       "std         0.026071  \n",
       "min         0.850000  \n",
       "25%         0.982759  \n",
       "50%         1.000000  \n",
       "75%         1.019231  \n",
       "max         1.060000  "
      ]
     },
     "execution_count": 11,
     "metadata": {},
     "output_type": "execute_result"
    }
   ],
   "source": [
    "# sample fewer questions\n",
    "target_pct = 0.2543\n",
    "n = len(df) - len(questions)\n",
    "new_length = int(n / (1 - target_pct) * target_pct)\n",
    "questions = questions.sample(n=new_length, random_state=1)\n",
    "questions.describe(include=\"all\")"
   ]
  },
  {
   "cell_type": "code",
   "execution_count": 12,
   "metadata": {},
   "outputs": [
    {
     "data": {
      "application/vnd.microsoft.datawrangler.viewer.v0+json": {
       "columns": [
        {
         "name": "index",
         "rawType": "object",
         "type": "string"
        },
        {
         "name": "audio_filepath",
         "rawType": "object",
         "type": "unknown"
        },
        {
         "name": "text",
         "rawType": "object",
         "type": "unknown"
        },
        {
         "name": "pred_text",
         "rawType": "object",
         "type": "unknown"
        },
        {
         "name": "original_text",
         "rawType": "object",
         "type": "unknown"
        },
        {
         "name": "duration",
         "rawType": "float64",
         "type": "float"
        },
        {
         "name": "ratio",
         "rawType": "float64",
         "type": "float"
        }
       ],
       "conversionMethod": "pd.DataFrame",
       "ref": "726f10ac-1e0d-4555-ab4d-1b176ab32ccf",
       "rows": [
        [
         "count",
         "383182",
         "383182",
         "383182",
         "383182",
         "383182.0",
         "383182.0"
        ],
        [
         "unique",
         "383182",
         "383182",
         "382366",
         "383182",
         null,
         null
        ],
        [
         "top",
         "/mnt/md0/synvoices/data/hausa_asr_filtered_augmented/clips/744cefa88a928ea1e5c15326ee593db1.wav",
         "goron giwa yana da dogon wuya sosai",
         "me ya sa ilimi mai kyau yake da muhimmanci",
         "Goron giwa yana da dogon wuya sosai.",
         null,
         null
        ],
        [
         "freq",
         "1",
         "1",
         "4",
         "1",
         null,
         null
        ],
        [
         "mean",
         null,
         null,
         null,
         null,
         "4.22781263489021",
         "1.0018932470622073"
        ],
        [
         "std",
         null,
         null,
         null,
         null,
         "0.7533506428174656",
         "0.024696618877184332"
        ],
        [
         "min",
         null,
         null,
         null,
         null,
         "1.664",
         "0.85"
        ],
        [
         "25%",
         null,
         null,
         null,
         null,
         "3.712",
         "1.0"
        ],
        [
         "50%",
         null,
         null,
         null,
         null,
         "4.1706875",
         "1.0"
        ],
        [
         "75%",
         null,
         null,
         null,
         null,
         "4.6826875",
         "1.0192307692"
        ],
        [
         "max",
         null,
         null,
         null,
         null,
         "9.0026875",
         "1.06"
        ]
       ],
       "shape": {
        "columns": 6,
        "rows": 11
       }
      },
      "text/html": [
       "<div>\n",
       "<style scoped>\n",
       "    .dataframe tbody tr th:only-of-type {\n",
       "        vertical-align: middle;\n",
       "    }\n",
       "\n",
       "    .dataframe tbody tr th {\n",
       "        vertical-align: top;\n",
       "    }\n",
       "\n",
       "    .dataframe thead th {\n",
       "        text-align: right;\n",
       "    }\n",
       "</style>\n",
       "<table border=\"1\" class=\"dataframe\">\n",
       "  <thead>\n",
       "    <tr style=\"text-align: right;\">\n",
       "      <th></th>\n",
       "      <th>audio_filepath</th>\n",
       "      <th>text</th>\n",
       "      <th>pred_text</th>\n",
       "      <th>original_text</th>\n",
       "      <th>duration</th>\n",
       "      <th>ratio</th>\n",
       "    </tr>\n",
       "  </thead>\n",
       "  <tbody>\n",
       "    <tr>\n",
       "      <th>count</th>\n",
       "      <td>383182</td>\n",
       "      <td>383182</td>\n",
       "      <td>383182</td>\n",
       "      <td>383182</td>\n",
       "      <td>383182.000000</td>\n",
       "      <td>383182.000000</td>\n",
       "    </tr>\n",
       "    <tr>\n",
       "      <th>unique</th>\n",
       "      <td>383182</td>\n",
       "      <td>383182</td>\n",
       "      <td>382366</td>\n",
       "      <td>383182</td>\n",
       "      <td>NaN</td>\n",
       "      <td>NaN</td>\n",
       "    </tr>\n",
       "    <tr>\n",
       "      <th>top</th>\n",
       "      <td>/mnt/md0/synvoices/data/hausa_asr_filtered_aug...</td>\n",
       "      <td>goron giwa yana da dogon wuya sosai</td>\n",
       "      <td>me ya sa ilimi mai kyau yake da muhimmanci</td>\n",
       "      <td>Goron giwa yana da dogon wuya sosai.</td>\n",
       "      <td>NaN</td>\n",
       "      <td>NaN</td>\n",
       "    </tr>\n",
       "    <tr>\n",
       "      <th>freq</th>\n",
       "      <td>1</td>\n",
       "      <td>1</td>\n",
       "      <td>4</td>\n",
       "      <td>1</td>\n",
       "      <td>NaN</td>\n",
       "      <td>NaN</td>\n",
       "    </tr>\n",
       "    <tr>\n",
       "      <th>mean</th>\n",
       "      <td>NaN</td>\n",
       "      <td>NaN</td>\n",
       "      <td>NaN</td>\n",
       "      <td>NaN</td>\n",
       "      <td>4.227813</td>\n",
       "      <td>1.001893</td>\n",
       "    </tr>\n",
       "    <tr>\n",
       "      <th>std</th>\n",
       "      <td>NaN</td>\n",
       "      <td>NaN</td>\n",
       "      <td>NaN</td>\n",
       "      <td>NaN</td>\n",
       "      <td>0.753351</td>\n",
       "      <td>0.024697</td>\n",
       "    </tr>\n",
       "    <tr>\n",
       "      <th>min</th>\n",
       "      <td>NaN</td>\n",
       "      <td>NaN</td>\n",
       "      <td>NaN</td>\n",
       "      <td>NaN</td>\n",
       "      <td>1.664000</td>\n",
       "      <td>0.850000</td>\n",
       "    </tr>\n",
       "    <tr>\n",
       "      <th>25%</th>\n",
       "      <td>NaN</td>\n",
       "      <td>NaN</td>\n",
       "      <td>NaN</td>\n",
       "      <td>NaN</td>\n",
       "      <td>3.712000</td>\n",
       "      <td>1.000000</td>\n",
       "    </tr>\n",
       "    <tr>\n",
       "      <th>50%</th>\n",
       "      <td>NaN</td>\n",
       "      <td>NaN</td>\n",
       "      <td>NaN</td>\n",
       "      <td>NaN</td>\n",
       "      <td>4.170687</td>\n",
       "      <td>1.000000</td>\n",
       "    </tr>\n",
       "    <tr>\n",
       "      <th>75%</th>\n",
       "      <td>NaN</td>\n",
       "      <td>NaN</td>\n",
       "      <td>NaN</td>\n",
       "      <td>NaN</td>\n",
       "      <td>4.682688</td>\n",
       "      <td>1.019231</td>\n",
       "    </tr>\n",
       "    <tr>\n",
       "      <th>max</th>\n",
       "      <td>NaN</td>\n",
       "      <td>NaN</td>\n",
       "      <td>NaN</td>\n",
       "      <td>NaN</td>\n",
       "      <td>9.002688</td>\n",
       "      <td>1.060000</td>\n",
       "    </tr>\n",
       "  </tbody>\n",
       "</table>\n",
       "</div>"
      ],
      "text/plain": [
       "                                           audio_filepath  \\\n",
       "count                                              383182   \n",
       "unique                                             383182   \n",
       "top     /mnt/md0/synvoices/data/hausa_asr_filtered_aug...   \n",
       "freq                                                    1   \n",
       "mean                                                  NaN   \n",
       "std                                                   NaN   \n",
       "min                                                   NaN   \n",
       "25%                                                   NaN   \n",
       "50%                                                   NaN   \n",
       "75%                                                   NaN   \n",
       "max                                                   NaN   \n",
       "\n",
       "                                       text  \\\n",
       "count                                383182   \n",
       "unique                               383182   \n",
       "top     goron giwa yana da dogon wuya sosai   \n",
       "freq                                      1   \n",
       "mean                                    NaN   \n",
       "std                                     NaN   \n",
       "min                                     NaN   \n",
       "25%                                     NaN   \n",
       "50%                                     NaN   \n",
       "75%                                     NaN   \n",
       "max                                     NaN   \n",
       "\n",
       "                                         pred_text  \\\n",
       "count                                       383182   \n",
       "unique                                      382366   \n",
       "top     me ya sa ilimi mai kyau yake da muhimmanci   \n",
       "freq                                             4   \n",
       "mean                                           NaN   \n",
       "std                                            NaN   \n",
       "min                                            NaN   \n",
       "25%                                            NaN   \n",
       "50%                                            NaN   \n",
       "75%                                            NaN   \n",
       "max                                            NaN   \n",
       "\n",
       "                               original_text       duration          ratio  \n",
       "count                                 383182  383182.000000  383182.000000  \n",
       "unique                                383182            NaN            NaN  \n",
       "top     Goron giwa yana da dogon wuya sosai.            NaN            NaN  \n",
       "freq                                       1            NaN            NaN  \n",
       "mean                                     NaN       4.227813       1.001893  \n",
       "std                                      NaN       0.753351       0.024697  \n",
       "min                                      NaN       1.664000       0.850000  \n",
       "25%                                      NaN       3.712000       1.000000  \n",
       "50%                                      NaN       4.170687       1.000000  \n",
       "75%                                      NaN       4.682688       1.019231  \n",
       "max                                      NaN       9.002688       1.060000  "
      ]
     },
     "execution_count": 12,
     "metadata": {},
     "output_type": "execute_result"
    }
   ],
   "source": [
    "new_df = pd.concat([df[~df['original_text'].str.endswith('?')], questions])\n",
    "new_df = new_df.sample(frac=1, random_state=1).reset_index(drop=True)\n",
    "new_df.describe(include=\"all\")"
   ]
  },
  {
   "cell_type": "code",
   "execution_count": 13,
   "metadata": {},
   "outputs": [
    {
     "data": {
      "text/plain": [
       "0.25429952346404583"
      ]
     },
     "execution_count": 13,
     "metadata": {},
     "output_type": "execute_result"
    }
   ],
   "source": [
    "# new ratio of questions to total samples\n",
    "len(new_df[new_df['original_text'].str.endswith('?')]) / len(new_df)"
   ]
  },
  {
   "cell_type": "code",
   "execution_count": 14,
   "metadata": {},
   "outputs": [
    {
     "data": {
      "text/plain": [
       "450.0060280729167"
      ]
     },
     "execution_count": 14,
     "metadata": {},
     "output_type": "execute_result"
    }
   ],
   "source": [
    "# new duration in seconds\n",
    "total_duration = float(new_df['duration'].sum())\n",
    "total_duration / 3600"
   ]
  },
  {
   "cell_type": "code",
   "execution_count": 15,
   "metadata": {},
   "outputs": [],
   "source": [
    "cols = ['audio_filepath', 'text', 'duration']\n",
    "new_df = new_df[cols]\n",
    "\n",
    "# save to new manifest\n",
    "new_manifest_path = os.path.join(\n",
    "    os.path.dirname(path),\n",
    "    f\"manifest_{int(total_duration / 3600)}h.jsonl\"\n",
    ")\n",
    "new_df.to_json(new_manifest_path, orient=\"records\", lines=True)"
   ]
  },
  {
   "cell_type": "code",
   "execution_count": 16,
   "metadata": {},
   "outputs": [],
   "source": [
    "def sample_dataset(df, duration, manifest_name, random_state=1):\n",
    "    \"\"\"\n",
    "    Sample a dataset to a specific duration.\n",
    "    \"\"\"\n",
    "    total_duration = float(df['duration'].sum())\n",
    "    ratio = (duration * 3600) / total_duration\n",
    "    n = int(len(df) * ratio)\n",
    "    sample = df.sample(n=n, random_state=random_state)\n",
    "    sample = sample.sample(frac=1, random_state=random_state).reset_index(drop=True)\n",
    "    sample_duration = sample['duration'].sum()\n",
    "    print(f\"Sample duration: {sample_duration / 3600:.2f} hours\")\n",
    "    \n",
    "    # save to new manifest\n",
    "    sample_manifest_path = os.path.join(\n",
    "        os.path.dirname(path),\n",
    "        f\"{manifest_name}_{int(duration)}h.jsonl\"\n",
    "    )\n",
    "    sample.to_json(sample_manifest_path, orient=\"records\", lines=True)\n",
    "    print(f\"Manifest saved to {sample_manifest_path}\")"
   ]
  },
  {
   "cell_type": "code",
   "execution_count": 17,
   "metadata": {},
   "outputs": [
    {
     "name": "stdout",
     "output_type": "stream",
     "text": [
      "Sample duration: 400.00 hours\n",
      "Manifest saved to /mnt/md0/synvoices/data/hausa_asr_filtered_augmented/manifest_400h.jsonl\n"
     ]
    }
   ],
   "source": [
    "sample_dataset(new_df, 400, \"manifest\", random_state=4)"
   ]
  },
  {
   "cell_type": "code",
   "execution_count": 18,
   "metadata": {},
   "outputs": [
    {
     "name": "stdout",
     "output_type": "stream",
     "text": [
      "Sample duration: 250.00 hours\n",
      "Manifest saved to /mnt/md0/synvoices/data/hausa_asr_filtered_augmented/manifest_250h.jsonl\n"
     ]
    }
   ],
   "source": [
    "sample_dataset(new_df, 250, \"manifest\", random_state=3)"
   ]
  }
 ],
 "metadata": {
  "kernelspec": {
   "display_name": ".venv",
   "language": "python",
   "name": "python3"
  },
  "language_info": {
   "codemirror_mode": {
    "name": "ipython",
    "version": 3
   },
   "file_extension": ".py",
   "mimetype": "text/x-python",
   "name": "python",
   "nbconvert_exporter": "python",
   "pygments_lexer": "ipython3",
   "version": "3.9.16"
  }
 },
 "nbformat": 4,
 "nbformat_minor": 2
}
