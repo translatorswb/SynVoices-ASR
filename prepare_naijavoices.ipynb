{
 "cells": [
  {
   "cell_type": "markdown",
   "metadata": {},
   "source": [
    "# Imports"
   ]
  },
  {
   "cell_type": "code",
   "execution_count": 1,
   "metadata": {},
   "outputs": [],
   "source": [
    "import os\n",
    "import pandas as pd\n",
    "from collections import Counter\n",
    "from sklearn.model_selection import GroupShuffleSplit"
   ]
  },
  {
   "cell_type": "markdown",
   "metadata": {},
   "source": [
    "# Prepare NaijaVoices dataset"
   ]
  },
  {
   "cell_type": "code",
   "execution_count": 2,
   "metadata": {},
   "outputs": [
    {
     "data": {
      "application/vnd.microsoft.datawrangler.viewer.v0+json": {
       "columns": [
        {
         "name": "index",
         "rawType": "object",
         "type": "string"
        },
        {
         "name": "speaker_id",
         "rawType": "object",
         "type": "unknown"
        },
        {
         "name": "audio",
         "rawType": "object",
         "type": "unknown"
        },
        {
         "name": "text",
         "rawType": "object",
         "type": "unknown"
        },
        {
         "name": "language",
         "rawType": "object",
         "type": "unknown"
        },
        {
         "name": "age_bracket",
         "rawType": "object",
         "type": "unknown"
        },
        {
         "name": "gender",
         "rawType": "object",
         "type": "unknown"
        },
        {
         "name": "phase",
         "rawType": "object",
         "type": "unknown"
        }
       ],
       "conversionMethod": "pd.DataFrame",
       "ref": "77a6c27f-424f-40ba-b630-7c33b16858d8",
       "rows": [
        [
         "count",
         "1917686",
         "1917686",
         "1917686",
         "1917686",
         "1917686",
         "1917686",
         "1917686"
        ],
        [
         "unique",
         "5454",
         "1887787",
         "644654",
         "3",
         "3",
         "2",
         "2"
        ],
        [
         "top",
         "E4J10",
         "20240115210237-157-1281-272473-a-cikin-rayuwar-titi-titunan-b.wav",
         "Ban sani ba.",
         "hausa",
         "18-29",
         "female",
         "phase 1"
        ],
        [
         "freq",
         "8483",
         "48",
         "80",
         "708599",
         "1263398",
         "1097357",
         "1294450"
        ]
       ],
       "shape": {
        "columns": 7,
        "rows": 4
       }
      },
      "text/html": [
       "<div>\n",
       "<style scoped>\n",
       "    .dataframe tbody tr th:only-of-type {\n",
       "        vertical-align: middle;\n",
       "    }\n",
       "\n",
       "    .dataframe tbody tr th {\n",
       "        vertical-align: top;\n",
       "    }\n",
       "\n",
       "    .dataframe thead th {\n",
       "        text-align: right;\n",
       "    }\n",
       "</style>\n",
       "<table border=\"1\" class=\"dataframe\">\n",
       "  <thead>\n",
       "    <tr style=\"text-align: right;\">\n",
       "      <th></th>\n",
       "      <th>speaker_id</th>\n",
       "      <th>audio</th>\n",
       "      <th>text</th>\n",
       "      <th>language</th>\n",
       "      <th>age_bracket</th>\n",
       "      <th>gender</th>\n",
       "      <th>phase</th>\n",
       "    </tr>\n",
       "  </thead>\n",
       "  <tbody>\n",
       "    <tr>\n",
       "      <th>count</th>\n",
       "      <td>1917686</td>\n",
       "      <td>1917686</td>\n",
       "      <td>1917686</td>\n",
       "      <td>1917686</td>\n",
       "      <td>1917686</td>\n",
       "      <td>1917686</td>\n",
       "      <td>1917686</td>\n",
       "    </tr>\n",
       "    <tr>\n",
       "      <th>unique</th>\n",
       "      <td>5454</td>\n",
       "      <td>1887787</td>\n",
       "      <td>644654</td>\n",
       "      <td>3</td>\n",
       "      <td>3</td>\n",
       "      <td>2</td>\n",
       "      <td>2</td>\n",
       "    </tr>\n",
       "    <tr>\n",
       "      <th>top</th>\n",
       "      <td>E4J10</td>\n",
       "      <td>20240115210237-157-1281-272473-a-cikin-rayuwar...</td>\n",
       "      <td>Ban sani ba.</td>\n",
       "      <td>hausa</td>\n",
       "      <td>18-29</td>\n",
       "      <td>female</td>\n",
       "      <td>phase 1</td>\n",
       "    </tr>\n",
       "    <tr>\n",
       "      <th>freq</th>\n",
       "      <td>8483</td>\n",
       "      <td>48</td>\n",
       "      <td>80</td>\n",
       "      <td>708599</td>\n",
       "      <td>1263398</td>\n",
       "      <td>1097357</td>\n",
       "      <td>1294450</td>\n",
       "    </tr>\n",
       "  </tbody>\n",
       "</table>\n",
       "</div>"
      ],
      "text/plain": [
       "       speaker_id                                              audio  \\\n",
       "count     1917686                                            1917686   \n",
       "unique       5454                                            1887787   \n",
       "top         E4J10  20240115210237-157-1281-272473-a-cikin-rayuwar...   \n",
       "freq         8483                                                 48   \n",
       "\n",
       "                text language age_bracket   gender    phase  \n",
       "count        1917686  1917686     1917686  1917686  1917686  \n",
       "unique        644654        3           3        2        2  \n",
       "top     Ban sani ba.    hausa       18-29   female  phase 1  \n",
       "freq              80   708599     1263398  1097357  1294450  "
      ]
     },
     "execution_count": 2,
     "metadata": {},
     "output_type": "execute_result"
    }
   ],
   "source": [
    "path = \"/mnt/md0/synvoices/data/naijavoices/metadata.csv\"\n",
    "\n",
    "df = pd.read_csv(path, sep=\"~\")\n",
    "df.describe(include=\"all\")"
   ]
  },
  {
   "cell_type": "code",
   "execution_count": 3,
   "metadata": {},
   "outputs": [
    {
     "data": {
      "text/plain": [
       "speaker_id     0\n",
       "audio          0\n",
       "text           0\n",
       "language       0\n",
       "age_bracket    0\n",
       "gender         0\n",
       "phase          0\n",
       "dtype: int64"
      ]
     },
     "execution_count": 3,
     "metadata": {},
     "output_type": "execute_result"
    }
   ],
   "source": [
    "# check for missing values\n",
    "df.isnull().sum()"
   ]
  },
  {
   "cell_type": "code",
   "execution_count": 4,
   "metadata": {},
   "outputs": [
    {
     "data": {
      "application/vnd.microsoft.datawrangler.viewer.v0+json": {
       "columns": [
        {
         "name": "index",
         "rawType": "object",
         "type": "string"
        },
        {
         "name": "speaker_id",
         "rawType": "object",
         "type": "unknown"
        },
        {
         "name": "audio",
         "rawType": "object",
         "type": "unknown"
        },
        {
         "name": "text",
         "rawType": "object",
         "type": "unknown"
        },
        {
         "name": "language",
         "rawType": "object",
         "type": "unknown"
        },
        {
         "name": "age_bracket",
         "rawType": "object",
         "type": "unknown"
        },
        {
         "name": "gender",
         "rawType": "object",
         "type": "unknown"
        },
        {
         "name": "phase",
         "rawType": "object",
         "type": "unknown"
        }
       ],
       "conversionMethod": "pd.DataFrame",
       "ref": "9e9cdbb5-eb26-41da-8d64-b53340630844",
       "rows": [
        [
         "count",
         "708599",
         "708599",
         "708599",
         "708599",
         "708599",
         "708599",
         "708599"
        ],
        [
         "unique",
         "1879",
         "694375",
         "218041",
         "1",
         "3",
         "2",
         "2"
        ],
        [
         "top",
         "E4J10",
         "20240115210237-157-1281-272473-a-cikin-rayuwar-titi-titunan-b.wav",
         "Ban sani ba.",
         "hausa",
         "18-29",
         "female",
         "phase 1"
        ],
        [
         "freq",
         "8483",
         "48",
         "80",
         "708599",
         "439895",
         "359529",
         "452974"
        ]
       ],
       "shape": {
        "columns": 7,
        "rows": 4
       }
      },
      "text/html": [
       "<div>\n",
       "<style scoped>\n",
       "    .dataframe tbody tr th:only-of-type {\n",
       "        vertical-align: middle;\n",
       "    }\n",
       "\n",
       "    .dataframe tbody tr th {\n",
       "        vertical-align: top;\n",
       "    }\n",
       "\n",
       "    .dataframe thead th {\n",
       "        text-align: right;\n",
       "    }\n",
       "</style>\n",
       "<table border=\"1\" class=\"dataframe\">\n",
       "  <thead>\n",
       "    <tr style=\"text-align: right;\">\n",
       "      <th></th>\n",
       "      <th>speaker_id</th>\n",
       "      <th>audio</th>\n",
       "      <th>text</th>\n",
       "      <th>language</th>\n",
       "      <th>age_bracket</th>\n",
       "      <th>gender</th>\n",
       "      <th>phase</th>\n",
       "    </tr>\n",
       "  </thead>\n",
       "  <tbody>\n",
       "    <tr>\n",
       "      <th>count</th>\n",
       "      <td>708599</td>\n",
       "      <td>708599</td>\n",
       "      <td>708599</td>\n",
       "      <td>708599</td>\n",
       "      <td>708599</td>\n",
       "      <td>708599</td>\n",
       "      <td>708599</td>\n",
       "    </tr>\n",
       "    <tr>\n",
       "      <th>unique</th>\n",
       "      <td>1879</td>\n",
       "      <td>694375</td>\n",
       "      <td>218041</td>\n",
       "      <td>1</td>\n",
       "      <td>3</td>\n",
       "      <td>2</td>\n",
       "      <td>2</td>\n",
       "    </tr>\n",
       "    <tr>\n",
       "      <th>top</th>\n",
       "      <td>E4J10</td>\n",
       "      <td>20240115210237-157-1281-272473-a-cikin-rayuwar...</td>\n",
       "      <td>Ban sani ba.</td>\n",
       "      <td>hausa</td>\n",
       "      <td>18-29</td>\n",
       "      <td>female</td>\n",
       "      <td>phase 1</td>\n",
       "    </tr>\n",
       "    <tr>\n",
       "      <th>freq</th>\n",
       "      <td>8483</td>\n",
       "      <td>48</td>\n",
       "      <td>80</td>\n",
       "      <td>708599</td>\n",
       "      <td>439895</td>\n",
       "      <td>359529</td>\n",
       "      <td>452974</td>\n",
       "    </tr>\n",
       "  </tbody>\n",
       "</table>\n",
       "</div>"
      ],
      "text/plain": [
       "       speaker_id                                              audio  \\\n",
       "count      708599                                             708599   \n",
       "unique       1879                                             694375   \n",
       "top         E4J10  20240115210237-157-1281-272473-a-cikin-rayuwar...   \n",
       "freq         8483                                                 48   \n",
       "\n",
       "                text language age_bracket  gender    phase  \n",
       "count         708599   708599      708599  708599   708599  \n",
       "unique        218041        1           3       2        2  \n",
       "top     Ban sani ba.    hausa       18-29  female  phase 1  \n",
       "freq              80   708599      439895  359529   452974  "
      ]
     },
     "execution_count": 4,
     "metadata": {},
     "output_type": "execute_result"
    }
   ],
   "source": [
    "# get Hausa subset\n",
    "df = df[df['language'] == 'hausa']\n",
    "df.describe(include=\"all\")"
   ]
  },
  {
   "cell_type": "code",
   "execution_count": 5,
   "metadata": {},
   "outputs": [
    {
     "data": {
      "application/vnd.microsoft.datawrangler.viewer.v0+json": {
       "columns": [
        {
         "name": "index",
         "rawType": "object",
         "type": "string"
        },
        {
         "name": "speaker_id",
         "rawType": "object",
         "type": "unknown"
        },
        {
         "name": "audio",
         "rawType": "object",
         "type": "unknown"
        },
        {
         "name": "text",
         "rawType": "object",
         "type": "unknown"
        },
        {
         "name": "age_bracket",
         "rawType": "object",
         "type": "unknown"
        },
        {
         "name": "gender",
         "rawType": "object",
         "type": "unknown"
        }
       ],
       "conversionMethod": "pd.DataFrame",
       "ref": "7d88e487-b86f-4db0-b483-bd6516794e4f",
       "rows": [
        [
         "count",
         "708599",
         "708599",
         "708599",
         "708599",
         "708599"
        ],
        [
         "unique",
         "1879",
         "694375",
         "218041",
         "3",
         "2"
        ],
        [
         "top",
         "E4J10",
         "20240115210237-157-1281-272473-a-cikin-rayuwar-titi-titunan-b.wav",
         "Ban sani ba.",
         "18-29",
         "female"
        ],
        [
         "freq",
         "8483",
         "48",
         "80",
         "439895",
         "359529"
        ]
       ],
       "shape": {
        "columns": 5,
        "rows": 4
       }
      },
      "text/html": [
       "<div>\n",
       "<style scoped>\n",
       "    .dataframe tbody tr th:only-of-type {\n",
       "        vertical-align: middle;\n",
       "    }\n",
       "\n",
       "    .dataframe tbody tr th {\n",
       "        vertical-align: top;\n",
       "    }\n",
       "\n",
       "    .dataframe thead th {\n",
       "        text-align: right;\n",
       "    }\n",
       "</style>\n",
       "<table border=\"1\" class=\"dataframe\">\n",
       "  <thead>\n",
       "    <tr style=\"text-align: right;\">\n",
       "      <th></th>\n",
       "      <th>speaker_id</th>\n",
       "      <th>audio</th>\n",
       "      <th>text</th>\n",
       "      <th>age_bracket</th>\n",
       "      <th>gender</th>\n",
       "    </tr>\n",
       "  </thead>\n",
       "  <tbody>\n",
       "    <tr>\n",
       "      <th>count</th>\n",
       "      <td>708599</td>\n",
       "      <td>708599</td>\n",
       "      <td>708599</td>\n",
       "      <td>708599</td>\n",
       "      <td>708599</td>\n",
       "    </tr>\n",
       "    <tr>\n",
       "      <th>unique</th>\n",
       "      <td>1879</td>\n",
       "      <td>694375</td>\n",
       "      <td>218041</td>\n",
       "      <td>3</td>\n",
       "      <td>2</td>\n",
       "    </tr>\n",
       "    <tr>\n",
       "      <th>top</th>\n",
       "      <td>E4J10</td>\n",
       "      <td>20240115210237-157-1281-272473-a-cikin-rayuwar...</td>\n",
       "      <td>Ban sani ba.</td>\n",
       "      <td>18-29</td>\n",
       "      <td>female</td>\n",
       "    </tr>\n",
       "    <tr>\n",
       "      <th>freq</th>\n",
       "      <td>8483</td>\n",
       "      <td>48</td>\n",
       "      <td>80</td>\n",
       "      <td>439895</td>\n",
       "      <td>359529</td>\n",
       "    </tr>\n",
       "  </tbody>\n",
       "</table>\n",
       "</div>"
      ],
      "text/plain": [
       "       speaker_id                                              audio  \\\n",
       "count      708599                                             708599   \n",
       "unique       1879                                             694375   \n",
       "top         E4J10  20240115210237-157-1281-272473-a-cikin-rayuwar...   \n",
       "freq         8483                                                 48   \n",
       "\n",
       "                text age_bracket  gender  \n",
       "count         708599      708599  708599  \n",
       "unique        218041           3       2  \n",
       "top     Ban sani ba.       18-29  female  \n",
       "freq              80      439895  359529  "
      ]
     },
     "execution_count": 5,
     "metadata": {},
     "output_type": "execute_result"
    }
   ],
   "source": [
    "# drop unnecessary columns\n",
    "drop_cols = ['phase', 'language']\n",
    "df.drop(columns=drop_cols, inplace=True)\n",
    "df.describe(include=\"all\")"
   ]
  },
  {
   "cell_type": "code",
   "execution_count": 6,
   "metadata": {},
   "outputs": [
    {
     "data": {
      "application/vnd.microsoft.datawrangler.viewer.v0+json": {
       "columns": [
        {
         "name": "index",
         "rawType": "int64",
         "type": "integer"
        },
        {
         "name": "speaker_id",
         "rawType": "object",
         "type": "string"
        },
        {
         "name": "text",
         "rawType": "object",
         "type": "string"
        },
        {
         "name": "age_bracket",
         "rawType": "object",
         "type": "string"
        },
        {
         "name": "gender",
         "rawType": "object",
         "type": "string"
        },
        {
         "name": "audio_filepath",
         "rawType": "object",
         "type": "string"
        }
       ],
       "conversionMethod": "pd.DataFrame",
       "ref": "71046a1e-04e6-4c17-ae6f-532065ff57e3",
       "rows": [
        [
         "551655",
         "3XVX7",
         "Baban mu yana koya mana hudan doya",
         "30-over",
         "male",
         "/mnt/md0/synvoices/data/naijavoices/audio-unconverted/20231220121424-54-360-100110-baban-mu-yana-koya-mana-hudan.wav"
        ],
        [
         "551656",
         "3XVX7",
         "Ina tsananain son doya",
         "30-over",
         "male",
         "/mnt/md0/synvoices/data/naijavoices/audio-unconverted/20231220121437-54-360-100108-ina-tsananain-son-doya.wav"
        ],
        [
         "551657",
         "3XVX7",
         "Ana noman masara sosai a arewacin Najeriya",
         "30-over",
         "male",
         "/mnt/md0/synvoices/data/naijavoices/audio-unconverted/20231220121448-54-360-100109-ana-noman-masara-sosai-a-arewa.wav"
        ],
        [
         "551658",
         "3XVX7",
         "Noma tushen arziki ne, misali kasar Sin tafi kowa samar da shinkafa",
         "30-over",
         "male",
         "/mnt/md0/synvoices/data/naijavoices/audio-unconverted/20231220121600-54-360-100107-noma-tushen-arziki-ne-misali-k.wav"
        ],
        [
         "551659",
         "3XVX7",
         "Kayan amfanin gona irin su masara suna taimakon kowace kasa dogaro da kanta",
         "30-over",
         "male",
         "/mnt/md0/synvoices/data/naijavoices/audio-unconverted/20231220121652-54-360-100106-kayan-amfanin-gona-irin-su-mas.wav"
        ]
       ],
       "shape": {
        "columns": 5,
        "rows": 5
       }
      },
      "text/html": [
       "<div>\n",
       "<style scoped>\n",
       "    .dataframe tbody tr th:only-of-type {\n",
       "        vertical-align: middle;\n",
       "    }\n",
       "\n",
       "    .dataframe tbody tr th {\n",
       "        vertical-align: top;\n",
       "    }\n",
       "\n",
       "    .dataframe thead th {\n",
       "        text-align: right;\n",
       "    }\n",
       "</style>\n",
       "<table border=\"1\" class=\"dataframe\">\n",
       "  <thead>\n",
       "    <tr style=\"text-align: right;\">\n",
       "      <th></th>\n",
       "      <th>speaker_id</th>\n",
       "      <th>text</th>\n",
       "      <th>age_bracket</th>\n",
       "      <th>gender</th>\n",
       "      <th>audio_filepath</th>\n",
       "    </tr>\n",
       "  </thead>\n",
       "  <tbody>\n",
       "    <tr>\n",
       "      <th>551655</th>\n",
       "      <td>3XVX7</td>\n",
       "      <td>Baban mu yana koya mana hudan doya</td>\n",
       "      <td>30-over</td>\n",
       "      <td>male</td>\n",
       "      <td>/mnt/md0/synvoices/data/naijavoices/audio-unco...</td>\n",
       "    </tr>\n",
       "    <tr>\n",
       "      <th>551656</th>\n",
       "      <td>3XVX7</td>\n",
       "      <td>Ina tsananain son doya</td>\n",
       "      <td>30-over</td>\n",
       "      <td>male</td>\n",
       "      <td>/mnt/md0/synvoices/data/naijavoices/audio-unco...</td>\n",
       "    </tr>\n",
       "    <tr>\n",
       "      <th>551657</th>\n",
       "      <td>3XVX7</td>\n",
       "      <td>Ana noman masara sosai a arewacin Najeriya</td>\n",
       "      <td>30-over</td>\n",
       "      <td>male</td>\n",
       "      <td>/mnt/md0/synvoices/data/naijavoices/audio-unco...</td>\n",
       "    </tr>\n",
       "    <tr>\n",
       "      <th>551658</th>\n",
       "      <td>3XVX7</td>\n",
       "      <td>Noma tushen arziki ne, misali kasar Sin tafi k...</td>\n",
       "      <td>30-over</td>\n",
       "      <td>male</td>\n",
       "      <td>/mnt/md0/synvoices/data/naijavoices/audio-unco...</td>\n",
       "    </tr>\n",
       "    <tr>\n",
       "      <th>551659</th>\n",
       "      <td>3XVX7</td>\n",
       "      <td>Kayan amfanin gona irin su masara suna taimako...</td>\n",
       "      <td>30-over</td>\n",
       "      <td>male</td>\n",
       "      <td>/mnt/md0/synvoices/data/naijavoices/audio-unco...</td>\n",
       "    </tr>\n",
       "  </tbody>\n",
       "</table>\n",
       "</div>"
      ],
      "text/plain": [
       "       speaker_id                                               text  \\\n",
       "551655      3XVX7                 Baban mu yana koya mana hudan doya   \n",
       "551656      3XVX7                             Ina tsananain son doya   \n",
       "551657      3XVX7         Ana noman masara sosai a arewacin Najeriya   \n",
       "551658      3XVX7  Noma tushen arziki ne, misali kasar Sin tafi k...   \n",
       "551659      3XVX7  Kayan amfanin gona irin su masara suna taimako...   \n",
       "\n",
       "       age_bracket gender                                     audio_filepath  \n",
       "551655     30-over   male  /mnt/md0/synvoices/data/naijavoices/audio-unco...  \n",
       "551656     30-over   male  /mnt/md0/synvoices/data/naijavoices/audio-unco...  \n",
       "551657     30-over   male  /mnt/md0/synvoices/data/naijavoices/audio-unco...  \n",
       "551658     30-over   male  /mnt/md0/synvoices/data/naijavoices/audio-unco...  \n",
       "551659     30-over   male  /mnt/md0/synvoices/data/naijavoices/audio-unco...  "
      ]
     },
     "execution_count": 6,
     "metadata": {},
     "output_type": "execute_result"
    }
   ],
   "source": [
    "# get the audio file paths\n",
    "df['audio_filepath'] = df['audio'].apply(lambda x: os.path.join(os.path.dirname(path), \"audio-unconverted\", x))\n",
    "# drop the `audio` column\n",
    "df.drop(columns=['audio'], inplace=True)\n",
    "df.head()"
   ]
  },
  {
   "cell_type": "code",
   "execution_count": 7,
   "metadata": {},
   "outputs": [],
   "source": [
    "# save hausa subset to csv\n",
    "df.to_csv(\"hausa_subset.csv\", index=False)"
   ]
  },
  {
   "cell_type": "code",
   "execution_count": 8,
   "metadata": {},
   "outputs": [
    {
     "data": {
      "application/vnd.microsoft.datawrangler.viewer.v0+json": {
       "columns": [
        {
         "name": "index",
         "rawType": "object",
         "type": "string"
        },
        {
         "name": "audio_filepath",
         "rawType": "object",
         "type": "unknown"
        },
        {
         "name": "duration",
         "rawType": "float64",
         "type": "float"
        }
       ],
       "conversionMethod": "pd.DataFrame",
       "ref": "a2602b70-6a1d-4473-9964-6af3e7669bfb",
       "rows": [
        [
         "count",
         "708599",
         "708599.0"
        ],
        [
         "unique",
         "694375",
         null
        ],
        [
         "top",
         "/mnt/md0/synvoices/data/naijavoices/audio-unconverted/20240115210237-157-1281-272473-a-cikin-rayuwar-titi-titunan-b.wav",
         null
        ],
        [
         "freq",
         "48",
         null
        ],
        [
         "mean",
         null,
         "3.1394704762496137"
        ],
        [
         "std",
         null,
         "2.099536486425267"
        ],
        [
         "min",
         null,
         "0.06"
        ],
        [
         "25%",
         null,
         "2.16"
        ],
        [
         "50%",
         null,
         "2.82"
        ],
        [
         "75%",
         null,
         "3.78"
        ],
        [
         "max",
         null,
         "1321.08"
        ]
       ],
       "shape": {
        "columns": 2,
        "rows": 11
       }
      },
      "text/html": [
       "<div>\n",
       "<style scoped>\n",
       "    .dataframe tbody tr th:only-of-type {\n",
       "        vertical-align: middle;\n",
       "    }\n",
       "\n",
       "    .dataframe tbody tr th {\n",
       "        vertical-align: top;\n",
       "    }\n",
       "\n",
       "    .dataframe thead th {\n",
       "        text-align: right;\n",
       "    }\n",
       "</style>\n",
       "<table border=\"1\" class=\"dataframe\">\n",
       "  <thead>\n",
       "    <tr style=\"text-align: right;\">\n",
       "      <th></th>\n",
       "      <th>audio_filepath</th>\n",
       "      <th>duration</th>\n",
       "    </tr>\n",
       "  </thead>\n",
       "  <tbody>\n",
       "    <tr>\n",
       "      <th>count</th>\n",
       "      <td>708599</td>\n",
       "      <td>708599.000000</td>\n",
       "    </tr>\n",
       "    <tr>\n",
       "      <th>unique</th>\n",
       "      <td>694375</td>\n",
       "      <td>NaN</td>\n",
       "    </tr>\n",
       "    <tr>\n",
       "      <th>top</th>\n",
       "      <td>/mnt/md0/synvoices/data/naijavoices/audio-unco...</td>\n",
       "      <td>NaN</td>\n",
       "    </tr>\n",
       "    <tr>\n",
       "      <th>freq</th>\n",
       "      <td>48</td>\n",
       "      <td>NaN</td>\n",
       "    </tr>\n",
       "    <tr>\n",
       "      <th>mean</th>\n",
       "      <td>NaN</td>\n",
       "      <td>3.139470</td>\n",
       "    </tr>\n",
       "    <tr>\n",
       "      <th>std</th>\n",
       "      <td>NaN</td>\n",
       "      <td>2.099536</td>\n",
       "    </tr>\n",
       "    <tr>\n",
       "      <th>min</th>\n",
       "      <td>NaN</td>\n",
       "      <td>0.060000</td>\n",
       "    </tr>\n",
       "    <tr>\n",
       "      <th>25%</th>\n",
       "      <td>NaN</td>\n",
       "      <td>2.160000</td>\n",
       "    </tr>\n",
       "    <tr>\n",
       "      <th>50%</th>\n",
       "      <td>NaN</td>\n",
       "      <td>2.820000</td>\n",
       "    </tr>\n",
       "    <tr>\n",
       "      <th>75%</th>\n",
       "      <td>NaN</td>\n",
       "      <td>3.780000</td>\n",
       "    </tr>\n",
       "    <tr>\n",
       "      <th>max</th>\n",
       "      <td>NaN</td>\n",
       "      <td>1321.080000</td>\n",
       "    </tr>\n",
       "  </tbody>\n",
       "</table>\n",
       "</div>"
      ],
      "text/plain": [
       "                                           audio_filepath       duration\n",
       "count                                              708599  708599.000000\n",
       "unique                                             694375            NaN\n",
       "top     /mnt/md0/synvoices/data/naijavoices/audio-unco...            NaN\n",
       "freq                                                   48            NaN\n",
       "mean                                                  NaN       3.139470\n",
       "std                                                   NaN       2.099536\n",
       "min                                                   NaN       0.060000\n",
       "25%                                                   NaN       2.160000\n",
       "50%                                                   NaN       2.820000\n",
       "75%                                                   NaN       3.780000\n",
       "max                                                   NaN    1321.080000"
      ]
     },
     "execution_count": 8,
     "metadata": {},
     "output_type": "execute_result"
    }
   ],
   "source": [
    "# get the duration of the audio files\n",
    "durations = pd.read_csv(\"durations.csv\")\n",
    "durations.describe(include='all')"
   ]
  },
  {
   "cell_type": "code",
   "execution_count": 9,
   "metadata": {},
   "outputs": [
    {
     "data": {
      "application/vnd.microsoft.datawrangler.viewer.v0+json": {
       "columns": [
        {
         "name": "index",
         "rawType": "object",
         "type": "string"
        },
        {
         "name": "speaker_id",
         "rawType": "object",
         "type": "unknown"
        },
        {
         "name": "text",
         "rawType": "object",
         "type": "unknown"
        },
        {
         "name": "age_bracket",
         "rawType": "object",
         "type": "unknown"
        },
        {
         "name": "gender",
         "rawType": "object",
         "type": "unknown"
        },
        {
         "name": "audio_filepath",
         "rawType": "object",
         "type": "unknown"
        },
        {
         "name": "duration",
         "rawType": "float64",
         "type": "float"
        }
       ],
       "conversionMethod": "pd.DataFrame",
       "ref": "a1445ff8-0b38-4eb1-83f3-9d53bc1e39fb",
       "rows": [
        [
         "count",
         "806989",
         "806989",
         "806989",
         "806989",
         "806989",
         "806989.0"
        ],
        [
         "unique",
         "1879",
         "218041",
         "3",
         "2",
         "694375",
         null
        ],
        [
         "top",
         "BHQAS",
         "A cikin rayuwar titi, titunan birni suna cunkushewa da dillalai a kasuwanni, da masu tafiya a ƙasa.",
         "18-29",
         "female",
         "/mnt/md0/synvoices/data/naijavoices/audio-unconverted/20240115210237-157-1281-272473-a-cikin-rayuwar-titi-titunan-b.wav",
         null
        ],
        [
         "freq",
         "37152",
         "2321",
         "502937",
         "433931",
         "2304",
         null
        ],
        [
         "mean",
         null,
         null,
         null,
         null,
         null,
         "3.1710875365091713"
        ],
        [
         "std",
         null,
         null,
         null,
         null,
         null,
         "2.0366599727675316"
        ],
        [
         "min",
         null,
         null,
         null,
         null,
         null,
         "0.06"
        ],
        [
         "25%",
         null,
         null,
         null,
         null,
         null,
         "2.16"
        ],
        [
         "50%",
         null,
         null,
         null,
         null,
         null,
         "2.88"
        ],
        [
         "75%",
         null,
         null,
         null,
         null,
         null,
         "3.84"
        ],
        [
         "max",
         null,
         null,
         null,
         null,
         null,
         "1321.08"
        ]
       ],
       "shape": {
        "columns": 6,
        "rows": 11
       }
      },
      "text/html": [
       "<div>\n",
       "<style scoped>\n",
       "    .dataframe tbody tr th:only-of-type {\n",
       "        vertical-align: middle;\n",
       "    }\n",
       "\n",
       "    .dataframe tbody tr th {\n",
       "        vertical-align: top;\n",
       "    }\n",
       "\n",
       "    .dataframe thead th {\n",
       "        text-align: right;\n",
       "    }\n",
       "</style>\n",
       "<table border=\"1\" class=\"dataframe\">\n",
       "  <thead>\n",
       "    <tr style=\"text-align: right;\">\n",
       "      <th></th>\n",
       "      <th>speaker_id</th>\n",
       "      <th>text</th>\n",
       "      <th>age_bracket</th>\n",
       "      <th>gender</th>\n",
       "      <th>audio_filepath</th>\n",
       "      <th>duration</th>\n",
       "    </tr>\n",
       "  </thead>\n",
       "  <tbody>\n",
       "    <tr>\n",
       "      <th>count</th>\n",
       "      <td>806989</td>\n",
       "      <td>806989</td>\n",
       "      <td>806989</td>\n",
       "      <td>806989</td>\n",
       "      <td>806989</td>\n",
       "      <td>806989.000000</td>\n",
       "    </tr>\n",
       "    <tr>\n",
       "      <th>unique</th>\n",
       "      <td>1879</td>\n",
       "      <td>218041</td>\n",
       "      <td>3</td>\n",
       "      <td>2</td>\n",
       "      <td>694375</td>\n",
       "      <td>NaN</td>\n",
       "    </tr>\n",
       "    <tr>\n",
       "      <th>top</th>\n",
       "      <td>BHQAS</td>\n",
       "      <td>A cikin rayuwar titi, titunan birni suna cunku...</td>\n",
       "      <td>18-29</td>\n",
       "      <td>female</td>\n",
       "      <td>/mnt/md0/synvoices/data/naijavoices/audio-unco...</td>\n",
       "      <td>NaN</td>\n",
       "    </tr>\n",
       "    <tr>\n",
       "      <th>freq</th>\n",
       "      <td>37152</td>\n",
       "      <td>2321</td>\n",
       "      <td>502937</td>\n",
       "      <td>433931</td>\n",
       "      <td>2304</td>\n",
       "      <td>NaN</td>\n",
       "    </tr>\n",
       "    <tr>\n",
       "      <th>mean</th>\n",
       "      <td>NaN</td>\n",
       "      <td>NaN</td>\n",
       "      <td>NaN</td>\n",
       "      <td>NaN</td>\n",
       "      <td>NaN</td>\n",
       "      <td>3.171088</td>\n",
       "    </tr>\n",
       "    <tr>\n",
       "      <th>std</th>\n",
       "      <td>NaN</td>\n",
       "      <td>NaN</td>\n",
       "      <td>NaN</td>\n",
       "      <td>NaN</td>\n",
       "      <td>NaN</td>\n",
       "      <td>2.036660</td>\n",
       "    </tr>\n",
       "    <tr>\n",
       "      <th>min</th>\n",
       "      <td>NaN</td>\n",
       "      <td>NaN</td>\n",
       "      <td>NaN</td>\n",
       "      <td>NaN</td>\n",
       "      <td>NaN</td>\n",
       "      <td>0.060000</td>\n",
       "    </tr>\n",
       "    <tr>\n",
       "      <th>25%</th>\n",
       "      <td>NaN</td>\n",
       "      <td>NaN</td>\n",
       "      <td>NaN</td>\n",
       "      <td>NaN</td>\n",
       "      <td>NaN</td>\n",
       "      <td>2.160000</td>\n",
       "    </tr>\n",
       "    <tr>\n",
       "      <th>50%</th>\n",
       "      <td>NaN</td>\n",
       "      <td>NaN</td>\n",
       "      <td>NaN</td>\n",
       "      <td>NaN</td>\n",
       "      <td>NaN</td>\n",
       "      <td>2.880000</td>\n",
       "    </tr>\n",
       "    <tr>\n",
       "      <th>75%</th>\n",
       "      <td>NaN</td>\n",
       "      <td>NaN</td>\n",
       "      <td>NaN</td>\n",
       "      <td>NaN</td>\n",
       "      <td>NaN</td>\n",
       "      <td>3.840000</td>\n",
       "    </tr>\n",
       "    <tr>\n",
       "      <th>max</th>\n",
       "      <td>NaN</td>\n",
       "      <td>NaN</td>\n",
       "      <td>NaN</td>\n",
       "      <td>NaN</td>\n",
       "      <td>NaN</td>\n",
       "      <td>1321.080000</td>\n",
       "    </tr>\n",
       "  </tbody>\n",
       "</table>\n",
       "</div>"
      ],
      "text/plain": [
       "       speaker_id                                               text  \\\n",
       "count      806989                                             806989   \n",
       "unique       1879                                             218041   \n",
       "top         BHQAS  A cikin rayuwar titi, titunan birni suna cunku...   \n",
       "freq        37152                                               2321   \n",
       "mean          NaN                                                NaN   \n",
       "std           NaN                                                NaN   \n",
       "min           NaN                                                NaN   \n",
       "25%           NaN                                                NaN   \n",
       "50%           NaN                                                NaN   \n",
       "75%           NaN                                                NaN   \n",
       "max           NaN                                                NaN   \n",
       "\n",
       "       age_bracket  gender                                     audio_filepath  \\\n",
       "count       806989  806989                                             806989   \n",
       "unique           3       2                                             694375   \n",
       "top          18-29  female  /mnt/md0/synvoices/data/naijavoices/audio-unco...   \n",
       "freq        502937  433931                                               2304   \n",
       "mean           NaN     NaN                                                NaN   \n",
       "std            NaN     NaN                                                NaN   \n",
       "min            NaN     NaN                                                NaN   \n",
       "25%            NaN     NaN                                                NaN   \n",
       "50%            NaN     NaN                                                NaN   \n",
       "75%            NaN     NaN                                                NaN   \n",
       "max            NaN     NaN                                                NaN   \n",
       "\n",
       "             duration  \n",
       "count   806989.000000  \n",
       "unique            NaN  \n",
       "top               NaN  \n",
       "freq              NaN  \n",
       "mean         3.171088  \n",
       "std          2.036660  \n",
       "min          0.060000  \n",
       "25%          2.160000  \n",
       "50%          2.880000  \n",
       "75%          3.840000  \n",
       "max       1321.080000  "
      ]
     },
     "execution_count": 9,
     "metadata": {},
     "output_type": "execute_result"
    }
   ],
   "source": [
    "# merge the two dataframes on `audio_filepath`\n",
    "df = df.merge(durations, on='audio_filepath', how='left')\n",
    "df.describe(include='all')"
   ]
  },
  {
   "cell_type": "code",
   "execution_count": 10,
   "metadata": {},
   "outputs": [
    {
     "data": {
      "text/plain": [
       "speaker_id        0\n",
       "text              0\n",
       "age_bracket       0\n",
       "gender            0\n",
       "audio_filepath    0\n",
       "duration          0\n",
       "dtype: int64"
      ]
     },
     "execution_count": 10,
     "metadata": {},
     "output_type": "execute_result"
    }
   ],
   "source": [
    "# check for missing values\n",
    "df.isnull().sum()"
   ]
  },
  {
   "cell_type": "code",
   "execution_count": 11,
   "metadata": {},
   "outputs": [
    {
     "data": {
      "application/vnd.microsoft.datawrangler.viewer.v0+json": {
       "columns": [
        {
         "name": "index",
         "rawType": "object",
         "type": "string"
        },
        {
         "name": "speaker_id",
         "rawType": "object",
         "type": "unknown"
        },
        {
         "name": "text",
         "rawType": "object",
         "type": "unknown"
        },
        {
         "name": "age_bracket",
         "rawType": "object",
         "type": "unknown"
        },
        {
         "name": "gender",
         "rawType": "object",
         "type": "unknown"
        },
        {
         "name": "audio_filepath",
         "rawType": "object",
         "type": "unknown"
        },
        {
         "name": "duration",
         "rawType": "float64",
         "type": "float"
        }
       ],
       "conversionMethod": "pd.DataFrame",
       "ref": "4e363eaf-805f-408d-9703-5e24fe3384b7",
       "rows": [
        [
         "count",
         "694375",
         "694375",
         "694375",
         "694375",
         "694375",
         "694375.0"
        ],
        [
         "unique",
         "1879",
         "218041",
         "3",
         "2",
         "694375",
         null
        ],
        [
         "top",
         "EX3HO",
         "Ban sani ba.",
         "18-29",
         "female",
         "/mnt/md0/synvoices/data/naijavoices/audio-unconverted/20240330133823-279-5954-1438296-babana-yana-da-gidaje-ari-biyu.wav",
         null
        ],
        [
         "freq",
         "8400",
         "80",
         "429250",
         "351495",
         "1",
         null
        ],
        [
         "mean",
         null,
         null,
         null,
         null,
         null,
         "3.1381247308730873"
        ],
        [
         "std",
         null,
         null,
         null,
         null,
         null,
         "2.1096526708114856"
        ],
        [
         "min",
         null,
         null,
         null,
         null,
         null,
         "0.06"
        ],
        [
         "25%",
         null,
         null,
         null,
         null,
         null,
         "2.16"
        ],
        [
         "50%",
         null,
         null,
         null,
         null,
         null,
         "2.82"
        ],
        [
         "75%",
         null,
         null,
         null,
         null,
         null,
         "3.78"
        ],
        [
         "max",
         null,
         null,
         null,
         null,
         null,
         "1321.08"
        ]
       ],
       "shape": {
        "columns": 6,
        "rows": 11
       }
      },
      "text/html": [
       "<div>\n",
       "<style scoped>\n",
       "    .dataframe tbody tr th:only-of-type {\n",
       "        vertical-align: middle;\n",
       "    }\n",
       "\n",
       "    .dataframe tbody tr th {\n",
       "        vertical-align: top;\n",
       "    }\n",
       "\n",
       "    .dataframe thead th {\n",
       "        text-align: right;\n",
       "    }\n",
       "</style>\n",
       "<table border=\"1\" class=\"dataframe\">\n",
       "  <thead>\n",
       "    <tr style=\"text-align: right;\">\n",
       "      <th></th>\n",
       "      <th>speaker_id</th>\n",
       "      <th>text</th>\n",
       "      <th>age_bracket</th>\n",
       "      <th>gender</th>\n",
       "      <th>audio_filepath</th>\n",
       "      <th>duration</th>\n",
       "    </tr>\n",
       "  </thead>\n",
       "  <tbody>\n",
       "    <tr>\n",
       "      <th>count</th>\n",
       "      <td>694375</td>\n",
       "      <td>694375</td>\n",
       "      <td>694375</td>\n",
       "      <td>694375</td>\n",
       "      <td>694375</td>\n",
       "      <td>694375.000000</td>\n",
       "    </tr>\n",
       "    <tr>\n",
       "      <th>unique</th>\n",
       "      <td>1879</td>\n",
       "      <td>218041</td>\n",
       "      <td>3</td>\n",
       "      <td>2</td>\n",
       "      <td>694375</td>\n",
       "      <td>NaN</td>\n",
       "    </tr>\n",
       "    <tr>\n",
       "      <th>top</th>\n",
       "      <td>EX3HO</td>\n",
       "      <td>Ban sani ba.</td>\n",
       "      <td>18-29</td>\n",
       "      <td>female</td>\n",
       "      <td>/mnt/md0/synvoices/data/naijavoices/audio-unco...</td>\n",
       "      <td>NaN</td>\n",
       "    </tr>\n",
       "    <tr>\n",
       "      <th>freq</th>\n",
       "      <td>8400</td>\n",
       "      <td>80</td>\n",
       "      <td>429250</td>\n",
       "      <td>351495</td>\n",
       "      <td>1</td>\n",
       "      <td>NaN</td>\n",
       "    </tr>\n",
       "    <tr>\n",
       "      <th>mean</th>\n",
       "      <td>NaN</td>\n",
       "      <td>NaN</td>\n",
       "      <td>NaN</td>\n",
       "      <td>NaN</td>\n",
       "      <td>NaN</td>\n",
       "      <td>3.138125</td>\n",
       "    </tr>\n",
       "    <tr>\n",
       "      <th>std</th>\n",
       "      <td>NaN</td>\n",
       "      <td>NaN</td>\n",
       "      <td>NaN</td>\n",
       "      <td>NaN</td>\n",
       "      <td>NaN</td>\n",
       "      <td>2.109653</td>\n",
       "    </tr>\n",
       "    <tr>\n",
       "      <th>min</th>\n",
       "      <td>NaN</td>\n",
       "      <td>NaN</td>\n",
       "      <td>NaN</td>\n",
       "      <td>NaN</td>\n",
       "      <td>NaN</td>\n",
       "      <td>0.060000</td>\n",
       "    </tr>\n",
       "    <tr>\n",
       "      <th>25%</th>\n",
       "      <td>NaN</td>\n",
       "      <td>NaN</td>\n",
       "      <td>NaN</td>\n",
       "      <td>NaN</td>\n",
       "      <td>NaN</td>\n",
       "      <td>2.160000</td>\n",
       "    </tr>\n",
       "    <tr>\n",
       "      <th>50%</th>\n",
       "      <td>NaN</td>\n",
       "      <td>NaN</td>\n",
       "      <td>NaN</td>\n",
       "      <td>NaN</td>\n",
       "      <td>NaN</td>\n",
       "      <td>2.820000</td>\n",
       "    </tr>\n",
       "    <tr>\n",
       "      <th>75%</th>\n",
       "      <td>NaN</td>\n",
       "      <td>NaN</td>\n",
       "      <td>NaN</td>\n",
       "      <td>NaN</td>\n",
       "      <td>NaN</td>\n",
       "      <td>3.780000</td>\n",
       "    </tr>\n",
       "    <tr>\n",
       "      <th>max</th>\n",
       "      <td>NaN</td>\n",
       "      <td>NaN</td>\n",
       "      <td>NaN</td>\n",
       "      <td>NaN</td>\n",
       "      <td>NaN</td>\n",
       "      <td>1321.080000</td>\n",
       "    </tr>\n",
       "  </tbody>\n",
       "</table>\n",
       "</div>"
      ],
      "text/plain": [
       "       speaker_id          text age_bracket  gender  \\\n",
       "count      694375        694375      694375  694375   \n",
       "unique       1879        218041           3       2   \n",
       "top         EX3HO  Ban sani ba.       18-29  female   \n",
       "freq         8400            80      429250  351495   \n",
       "mean          NaN           NaN         NaN     NaN   \n",
       "std           NaN           NaN         NaN     NaN   \n",
       "min           NaN           NaN         NaN     NaN   \n",
       "25%           NaN           NaN         NaN     NaN   \n",
       "50%           NaN           NaN         NaN     NaN   \n",
       "75%           NaN           NaN         NaN     NaN   \n",
       "max           NaN           NaN         NaN     NaN   \n",
       "\n",
       "                                           audio_filepath       duration  \n",
       "count                                              694375  694375.000000  \n",
       "unique                                             694375            NaN  \n",
       "top     /mnt/md0/synvoices/data/naijavoices/audio-unco...            NaN  \n",
       "freq                                                    1            NaN  \n",
       "mean                                                  NaN       3.138125  \n",
       "std                                                   NaN       2.109653  \n",
       "min                                                   NaN       0.060000  \n",
       "25%                                                   NaN       2.160000  \n",
       "50%                                                   NaN       2.820000  \n",
       "75%                                                   NaN       3.780000  \n",
       "max                                                   NaN    1321.080000  "
      ]
     },
     "execution_count": 11,
     "metadata": {},
     "output_type": "execute_result"
    }
   ],
   "source": [
    "# drop duplicates\n",
    "df.drop_duplicates(subset=['audio_filepath'], inplace=True)\n",
    "df.describe(include='all')"
   ]
  },
  {
   "cell_type": "code",
   "execution_count": 12,
   "metadata": {},
   "outputs": [
    {
     "data": {
      "text/plain": [
       "np.float64(604.7786333333333)"
      ]
     },
     "execution_count": 12,
     "metadata": {},
     "output_type": "execute_result"
    }
   ],
   "source": [
    "# remove long audio files\n",
    "df = df[df['duration'] <= 15]\n",
    "df['duration'].sum() / 3600"
   ]
  },
  {
   "cell_type": "code",
   "execution_count": 13,
   "metadata": {},
   "outputs": [
    {
     "data": {
      "text/plain": [
       "Counter({'a': 6282572,\n",
       "         ' ': 4758994,\n",
       "         'n': 2282807,\n",
       "         'i': 2156317,\n",
       "         'k': 1130173,\n",
       "         'u': 1105938,\n",
       "         's': 1006139,\n",
       "         'r': 955514,\n",
       "         'y': 887596,\n",
       "         'm': 800640,\n",
       "         'd': 775487,\n",
       "         'e': 709391,\n",
       "         't': 707356,\n",
       "         'b': 603050,\n",
       "         'o': 546908,\n",
       "         'w': 537547,\n",
       "         'h': 431544,\n",
       "         'g': 414722,\n",
       "         'l': 378615,\n",
       "         '.': 376669,\n",
       "         'f': 298775,\n",
       "         'c': 288003,\n",
       "         'j': 259659,\n",
       "         'z': 259485,\n",
       "         'ɗ': 116812,\n",
       "         'ƙ': 101459,\n",
       "         \"'\": 87830,\n",
       "         '?': 83164,\n",
       "         ',': 64927,\n",
       "         'ɓ': 21503,\n",
       "         '-': 19653,\n",
       "         '!': 19437,\n",
       "         'p': 15828,\n",
       "         'ƴ': 11601,\n",
       "         '\"': 6831,\n",
       "         '’': 3357,\n",
       "         'v': 2856,\n",
       "         'q': 1795,\n",
       "         '2': 1050,\n",
       "         'x': 1039,\n",
       "         '\\u200b': 976,\n",
       "         '0': 887,\n",
       "         '‘': 735,\n",
       "         '1': 675,\n",
       "         'ʼ': 614,\n",
       "         'ã': 566,\n",
       "         ')': 470,\n",
       "         '(': 465,\n",
       "         '/': 415,\n",
       "         '5': 397,\n",
       "         '\\xa0': 385,\n",
       "         '4': 338,\n",
       "         '6': 316,\n",
       "         'à': 305,\n",
       "         '9': 271,\n",
       "         ':': 261,\n",
       "         '7': 255,\n",
       "         '3': 247,\n",
       "         ';': 151,\n",
       "         'ú': 121,\n",
       "         '8': 106,\n",
       "         'á': 77,\n",
       "         '`': 76,\n",
       "         '“': 65,\n",
       "         '”': 49,\n",
       "         'í': 48,\n",
       "         'ā': 41,\n",
       "         'ū': 34,\n",
       "         'ı': 32,\n",
       "         'ò': 27,\n",
       "         'é': 25,\n",
       "         'ù': 24,\n",
       "         'ì': 24,\n",
       "         '_': 24,\n",
       "         '+': 21,\n",
       "         '&': 21,\n",
       "         '\\\\': 21,\n",
       "         'è': 20,\n",
       "         '[': 20,\n",
       "         ']': 16,\n",
       "         '*': 15,\n",
       "         'ẹ': 15,\n",
       "         '=': 15,\n",
       "         'ō': 12,\n",
       "         'ē': 11,\n",
       "         '>': 8,\n",
       "         'ô': 7,\n",
       "         '$': 7,\n",
       "         'ó': 7,\n",
       "         '—': 7,\n",
       "         '…': 6,\n",
       "         'ñ': 6,\n",
       "         'ọ': 6,\n",
       "         '̀': 6,\n",
       "         'ṣ': 6,\n",
       "         'â': 5,\n",
       "         'ü': 5,\n",
       "         'ş': 5,\n",
       "         '%': 5,\n",
       "         'ğ': 4,\n",
       "         'ž': 4,\n",
       "         'ý': 4,\n",
       "         'ŭ': 4,\n",
       "         '☕': 3,\n",
       "         '️': 3,\n",
       "         'ń': 3,\n",
       "         '₦': 3,\n",
       "         'ď': 3,\n",
       "         'õ': 3,\n",
       "         'ķ': 2,\n",
       "         'ǹ': 2,\n",
       "         'ũ': 2,\n",
       "         'š': 2,\n",
       "         '@': 2})"
      ]
     },
     "execution_count": 13,
     "metadata": {},
     "output_type": "execute_result"
    }
   ],
   "source": [
    "# lowercase the text\n",
    "df['text'] = df['text'].str.lower()\n",
    "\n",
    "# get character frequency\n",
    "all_text = \"\".join(df['text'].tolist())\n",
    "\n",
    "# get the frequency of each character\n",
    "char_freq = Counter(all_text)\n",
    "# sort the characters by frequency\n",
    "char_freq"
   ]
  },
  {
   "cell_type": "code",
   "execution_count": 14,
   "metadata": {},
   "outputs": [],
   "source": [
    "# remove punctuation and special characters\n",
    "CHARS_TO_REMOVE = ['!', '\"', '(', ')', ',', '.', ':', ';', '?', '[', ']', '“', '”', '☕', '️', '\\u200b']\n",
    "\n",
    "for char in CHARS_TO_REMOVE:\n",
    "    df['text'] = df['text'].str.replace(char, '', regex=False)\n",
    "\n",
    "df['text'] = df['text'].str.replace('\\xa0', ' ', regex=False)\n",
    "\n",
    "# strip leading and trailing whitespace from the text column\n",
    "df['text'] = df['text'].str.strip()"
   ]
  },
  {
   "cell_type": "code",
   "execution_count": 15,
   "metadata": {},
   "outputs": [
    {
     "data": {
      "text/plain": [
       "count    694347.000000\n",
       "mean         13.083885\n",
       "std           3.467767\n",
       "min           0.900901\n",
       "25%          11.212121\n",
       "50%          12.916667\n",
       "75%          14.728682\n",
       "max         883.333333\n",
       "Name: character_rate, dtype: float64"
      ]
     },
     "execution_count": 15,
     "metadata": {},
     "output_type": "execute_result"
    }
   ],
   "source": [
    "# remove rows with anomalous character rates\n",
    "df['character_rate'] = df['text'].str.len() / df['duration']\n",
    "df['character_rate'].describe()"
   ]
  },
  {
   "cell_type": "code",
   "execution_count": 16,
   "metadata": {},
   "outputs": [],
   "source": [
    "MAX = 30\n",
    "df = df[df['character_rate'] <= MAX]\n",
    "df.drop(columns=['character_rate'], inplace=True)"
   ]
  },
  {
   "cell_type": "code",
   "execution_count": 17,
   "metadata": {},
   "outputs": [
    {
     "name": "stdout",
     "output_type": "stream",
     "text": [
      "Manifest saved to /mnt/md0/synvoices/data/naijavoices/manifest.jsonl\n"
     ]
    }
   ],
   "source": [
    "# save to NeMo jsonl format\n",
    "manifest_path = os.path.join(os.path.dirname(path), \"manifest.jsonl\")\n",
    "\n",
    "df.to_json(manifest_path, orient='records', lines=True)\n",
    "print(f\"Manifest saved to {manifest_path}\")"
   ]
  },
  {
   "cell_type": "markdown",
   "metadata": {},
   "source": [
    "# Split the dataset into train, validation, and test sets"
   ]
  },
  {
   "cell_type": "code",
   "execution_count": 18,
   "metadata": {},
   "outputs": [
    {
     "data": {
      "application/vnd.microsoft.datawrangler.viewer.v0+json": {
       "columns": [
        {
         "name": "index",
         "rawType": "object",
         "type": "string"
        },
        {
         "name": "speaker_id",
         "rawType": "object",
         "type": "unknown"
        },
        {
         "name": "text",
         "rawType": "object",
         "type": "unknown"
        },
        {
         "name": "age_bracket",
         "rawType": "object",
         "type": "unknown"
        },
        {
         "name": "gender",
         "rawType": "object",
         "type": "unknown"
        },
        {
         "name": "audio_filepath",
         "rawType": "object",
         "type": "unknown"
        },
        {
         "name": "duration",
         "rawType": "float64",
         "type": "float"
        }
       ],
       "conversionMethod": "pd.DataFrame",
       "ref": "0c182612-f4e3-46aa-b77e-04480acc8323",
       "rows": [
        [
         "count",
         "694051",
         "694051",
         "694051",
         "694051",
         "694051",
         "694051.0"
        ],
        [
         "unique",
         "1879",
         "217080",
         "3",
         "2",
         "694051",
         null
        ],
        [
         "top",
         "PJ07Y",
         "ban sani ba",
         "18-29",
         "female",
         "/mnt/md0/synvoices/data/naijavoices/audio-unconverted/20240330133823-279-5954-1438296-babana-yana-da-gidaje-ari-biyu.wav",
         null
        ],
        [
         "freq",
         "8400",
         "83",
         "429041",
         "351343",
         "1",
         null
        ],
        [
         "mean",
         null,
         null,
         null,
         null,
         null,
         "3.136315429269608"
        ],
        [
         "std",
         null,
         null,
         null,
         null,
         null,
         "1.391821719147459"
        ],
        [
         "min",
         null,
         null,
         null,
         null,
         null,
         "0.42"
        ],
        [
         "25%",
         null,
         null,
         null,
         null,
         null,
         "2.16"
        ],
        [
         "50%",
         null,
         null,
         null,
         null,
         null,
         "2.82"
        ],
        [
         "75%",
         null,
         null,
         null,
         null,
         null,
         "3.78"
        ],
        [
         "max",
         null,
         null,
         null,
         null,
         null,
         "15.0"
        ]
       ],
       "shape": {
        "columns": 6,
        "rows": 11
       }
      },
      "text/html": [
       "<div>\n",
       "<style scoped>\n",
       "    .dataframe tbody tr th:only-of-type {\n",
       "        vertical-align: middle;\n",
       "    }\n",
       "\n",
       "    .dataframe tbody tr th {\n",
       "        vertical-align: top;\n",
       "    }\n",
       "\n",
       "    .dataframe thead th {\n",
       "        text-align: right;\n",
       "    }\n",
       "</style>\n",
       "<table border=\"1\" class=\"dataframe\">\n",
       "  <thead>\n",
       "    <tr style=\"text-align: right;\">\n",
       "      <th></th>\n",
       "      <th>speaker_id</th>\n",
       "      <th>text</th>\n",
       "      <th>age_bracket</th>\n",
       "      <th>gender</th>\n",
       "      <th>audio_filepath</th>\n",
       "      <th>duration</th>\n",
       "    </tr>\n",
       "  </thead>\n",
       "  <tbody>\n",
       "    <tr>\n",
       "      <th>count</th>\n",
       "      <td>694051</td>\n",
       "      <td>694051</td>\n",
       "      <td>694051</td>\n",
       "      <td>694051</td>\n",
       "      <td>694051</td>\n",
       "      <td>694051.000000</td>\n",
       "    </tr>\n",
       "    <tr>\n",
       "      <th>unique</th>\n",
       "      <td>1879</td>\n",
       "      <td>217080</td>\n",
       "      <td>3</td>\n",
       "      <td>2</td>\n",
       "      <td>694051</td>\n",
       "      <td>NaN</td>\n",
       "    </tr>\n",
       "    <tr>\n",
       "      <th>top</th>\n",
       "      <td>PJ07Y</td>\n",
       "      <td>ban sani ba</td>\n",
       "      <td>18-29</td>\n",
       "      <td>female</td>\n",
       "      <td>/mnt/md0/synvoices/data/naijavoices/audio-unco...</td>\n",
       "      <td>NaN</td>\n",
       "    </tr>\n",
       "    <tr>\n",
       "      <th>freq</th>\n",
       "      <td>8400</td>\n",
       "      <td>83</td>\n",
       "      <td>429041</td>\n",
       "      <td>351343</td>\n",
       "      <td>1</td>\n",
       "      <td>NaN</td>\n",
       "    </tr>\n",
       "    <tr>\n",
       "      <th>mean</th>\n",
       "      <td>NaN</td>\n",
       "      <td>NaN</td>\n",
       "      <td>NaN</td>\n",
       "      <td>NaN</td>\n",
       "      <td>NaN</td>\n",
       "      <td>3.136315</td>\n",
       "    </tr>\n",
       "    <tr>\n",
       "      <th>std</th>\n",
       "      <td>NaN</td>\n",
       "      <td>NaN</td>\n",
       "      <td>NaN</td>\n",
       "      <td>NaN</td>\n",
       "      <td>NaN</td>\n",
       "      <td>1.391822</td>\n",
       "    </tr>\n",
       "    <tr>\n",
       "      <th>min</th>\n",
       "      <td>NaN</td>\n",
       "      <td>NaN</td>\n",
       "      <td>NaN</td>\n",
       "      <td>NaN</td>\n",
       "      <td>NaN</td>\n",
       "      <td>0.420000</td>\n",
       "    </tr>\n",
       "    <tr>\n",
       "      <th>25%</th>\n",
       "      <td>NaN</td>\n",
       "      <td>NaN</td>\n",
       "      <td>NaN</td>\n",
       "      <td>NaN</td>\n",
       "      <td>NaN</td>\n",
       "      <td>2.160000</td>\n",
       "    </tr>\n",
       "    <tr>\n",
       "      <th>50%</th>\n",
       "      <td>NaN</td>\n",
       "      <td>NaN</td>\n",
       "      <td>NaN</td>\n",
       "      <td>NaN</td>\n",
       "      <td>NaN</td>\n",
       "      <td>2.820000</td>\n",
       "    </tr>\n",
       "    <tr>\n",
       "      <th>75%</th>\n",
       "      <td>NaN</td>\n",
       "      <td>NaN</td>\n",
       "      <td>NaN</td>\n",
       "      <td>NaN</td>\n",
       "      <td>NaN</td>\n",
       "      <td>3.780000</td>\n",
       "    </tr>\n",
       "    <tr>\n",
       "      <th>max</th>\n",
       "      <td>NaN</td>\n",
       "      <td>NaN</td>\n",
       "      <td>NaN</td>\n",
       "      <td>NaN</td>\n",
       "      <td>NaN</td>\n",
       "      <td>15.000000</td>\n",
       "    </tr>\n",
       "  </tbody>\n",
       "</table>\n",
       "</div>"
      ],
      "text/plain": [
       "       speaker_id         text age_bracket  gender  \\\n",
       "count      694051       694051      694051  694051   \n",
       "unique       1879       217080           3       2   \n",
       "top         PJ07Y  ban sani ba       18-29  female   \n",
       "freq         8400           83      429041  351343   \n",
       "mean          NaN          NaN         NaN     NaN   \n",
       "std           NaN          NaN         NaN     NaN   \n",
       "min           NaN          NaN         NaN     NaN   \n",
       "25%           NaN          NaN         NaN     NaN   \n",
       "50%           NaN          NaN         NaN     NaN   \n",
       "75%           NaN          NaN         NaN     NaN   \n",
       "max           NaN          NaN         NaN     NaN   \n",
       "\n",
       "                                           audio_filepath       duration  \n",
       "count                                              694051  694051.000000  \n",
       "unique                                             694051            NaN  \n",
       "top     /mnt/md0/synvoices/data/naijavoices/audio-unco...            NaN  \n",
       "freq                                                    1            NaN  \n",
       "mean                                                  NaN       3.136315  \n",
       "std                                                   NaN       1.391822  \n",
       "min                                                   NaN       0.420000  \n",
       "25%                                                   NaN       2.160000  \n",
       "50%                                                   NaN       2.820000  \n",
       "75%                                                   NaN       3.780000  \n",
       "max                                                   NaN      15.000000  "
      ]
     },
     "execution_count": 18,
     "metadata": {},
     "output_type": "execute_result"
    }
   ],
   "source": [
    "df.describe(include='all')"
   ]
  },
  {
   "cell_type": "code",
   "execution_count": 19,
   "metadata": {},
   "outputs": [],
   "source": [
    "def balanced_simple_split(df, train_size=0.8, dev_size=0.1, test_size=0.1, random_state=None):\n",
    "    \"\"\"\n",
    "    Balanced split ensuring:\n",
    "    - No speaker/text overlaps between any splits\n",
    "    - Maintains relative size between dev/test\n",
    "    \"\"\"\n",
    "    # Validate inputs\n",
    "    assert abs(train_size + dev_size + test_size - 1.0) < 1e-6\n",
    "    assert all(col in df.columns for col in ['text', 'speaker_id', 'audio_filepath'])\n",
    "\n",
    "    # First split: train vs temp (dev+test)\n",
    "    gss = GroupShuffleSplit(n_splits=1, train_size=train_size, random_state=random_state)\n",
    "    train_idx, temp_idx = next(gss.split(df, groups=df['speaker_id']))\n",
    "    train = df.iloc[train_idx]\n",
    "    temp = df.iloc[temp_idx]\n",
    "\n",
    "    # Second split: dev vs test (with speaker isolation)\n",
    "    split_ratio = dev_size / (dev_size + test_size)\n",
    "    gss2 = GroupShuffleSplit(n_splits=1, train_size=split_ratio, random_state=random_state)\n",
    "    dev_idx, test_idx = next(gss2.split(temp, groups=temp['speaker_id']))\n",
    "    dev = temp.iloc[dev_idx]\n",
    "    test = temp.iloc[test_idx]\n",
    "\n",
    "    # Remove overlapping texts between dev and test from BOTH sets\n",
    "    common_texts = set(dev['text']).intersection(test['text'])\n",
    "    dev = dev[~dev['text'].isin(common_texts)]\n",
    "    test = test[~test['text'].isin(common_texts)]\n",
    "\n",
    "    # Remove train texts overlapping with cleaned dev/test\n",
    "    dev_test_texts = set(dev['text']).union(test['text'])\n",
    "    train = train[~train['text'].isin(dev_test_texts)]\n",
    "\n",
    "    return (\n",
    "        train.reset_index(drop=True),\n",
    "        dev.reset_index(drop=True),\n",
    "        test.reset_index(drop=True)\n",
    "    )"
   ]
  },
  {
   "cell_type": "code",
   "execution_count": 20,
   "metadata": {},
   "outputs": [
    {
     "name": "stdout",
     "output_type": "stream",
     "text": [
      "Split sizes: 663,333 | 4,538 | 4,524\n"
     ]
    }
   ],
   "source": [
    "# Split with balanced dev/test\n",
    "train_df, dev_df, test_df = balanced_simple_split(\n",
    "    df,\n",
    "    train_size=0.98,\n",
    "    dev_size=0.01,\n",
    "    test_size=0.01,\n",
    "    random_state=42\n",
    ")\n",
    "\n",
    "print(f\"Split sizes: {len(train_df):,} | {len(dev_df):,} | {len(test_df):,}\")"
   ]
  },
  {
   "cell_type": "code",
   "execution_count": 21,
   "metadata": {},
   "outputs": [
    {
     "data": {
      "text/plain": [
       "(672395, 694051)"
      ]
     },
     "execution_count": 21,
     "metadata": {},
     "output_type": "execute_result"
    }
   ],
   "source": [
    "len(train_df) + len(dev_df) + len(test_df), len(df)"
   ]
  },
  {
   "cell_type": "code",
   "execution_count": 22,
   "metadata": {},
   "outputs": [
    {
     "name": "stdout",
     "output_type": "stream",
     "text": [
      "Train speakers: 1809\n",
      "Dev speakers: 19\n",
      "Test speakers: 19\n",
      "Overlap train-dev: 0\n",
      "Overlap train-test: 0\n",
      "Overlap dev-test: 0\n"
     ]
    }
   ],
   "source": [
    "# get unique speakers for each split\n",
    "train_speakers = train_df['speaker_id'].unique()\n",
    "dev_speakers = dev_df['speaker_id'].unique()\n",
    "test_speakers = test_df['speaker_id'].unique()\n",
    "print(f\"Train speakers: {len(train_speakers)}\")\n",
    "print(f\"Dev speakers: {len(dev_speakers)}\")\n",
    "print(f\"Test speakers: {len(test_speakers)}\")\n",
    "\n",
    "# check for overlapping speakers\n",
    "overlap_train_dev = set(train_speakers) & set(dev_speakers)\n",
    "overlap_train_test = set(train_speakers) & set(test_speakers)\n",
    "overlap_dev_test = set(dev_speakers) & set(test_speakers)\n",
    "print(f\"Overlap train-dev: {len(overlap_train_dev)}\")\n",
    "print(f\"Overlap train-test: {len(overlap_train_test)}\")\n",
    "print(f\"Overlap dev-test: {len(overlap_dev_test)}\")"
   ]
  },
  {
   "cell_type": "code",
   "execution_count": 23,
   "metadata": {},
   "outputs": [
    {
     "name": "stdout",
     "output_type": "stream",
     "text": [
      "Train texts: 208103\n",
      "Dev texts: 4513\n",
      "Test texts: 4464\n",
      "Overlap train-dev: 0\n",
      "Overlap train-test: 0\n",
      "Overlap dev-test: 0\n"
     ]
    }
   ],
   "source": [
    "# get unique texts for each split\n",
    "train_texts = train_df['text'].unique()\n",
    "dev_texts = dev_df['text'].unique()\n",
    "test_texts = test_df['text'].unique()\n",
    "print(f\"Train texts: {len(train_texts)}\")\n",
    "print(f\"Dev texts: {len(dev_texts)}\")\n",
    "print(f\"Test texts: {len(test_texts)}\")\n",
    "\n",
    "# check for overlapping texts\n",
    "overlap_train_dev = set(train_texts) & set(dev_texts)\n",
    "overlap_train_test = set(train_texts) & set(test_texts)\n",
    "overlap_dev_test = set(dev_texts) & set(test_texts)\n",
    "print(f\"Overlap train-dev: {len(overlap_train_dev)}\")\n",
    "print(f\"Overlap train-test: {len(overlap_train_test)}\")\n",
    "print(f\"Overlap dev-test: {len(overlap_dev_test)}\")"
   ]
  },
  {
   "cell_type": "code",
   "execution_count": 24,
   "metadata": {},
   "outputs": [
    {
     "name": "stdout",
     "output_type": "stream",
     "text": [
      "Train duration: 579.08 hours\n",
      "Dev duration: 3.61 hours\n",
      "Test duration: 3.41 hours\n"
     ]
    }
   ],
   "source": [
    "# get the total duration of each split\n",
    "train_duration = train_df['duration'].sum()\n",
    "dev_duration = dev_df['duration'].sum()\n",
    "test_duration = test_df['duration'].sum()\n",
    "print(f\"Train duration: {train_duration / 3600:.2f} hours\")\n",
    "print(f\"Dev duration: {dev_duration / 3600:.2f} hours\")\n",
    "print(f\"Test duration: {test_duration / 3600:.2f} hours\")"
   ]
  },
  {
   "cell_type": "code",
   "execution_count": 25,
   "metadata": {},
   "outputs": [
    {
     "name": "stdout",
     "output_type": "stream",
     "text": [
      "Train manifest saved to /mnt/md0/synvoices/data/naijavoices/train_manifest.jsonl\n",
      "Dev manifest saved to /mnt/md0/synvoices/data/naijavoices/dev_manifest.jsonl\n",
      "Test manifest saved to /mnt/md0/synvoices/data/naijavoices/test_manifest.jsonl\n"
     ]
    }
   ],
   "source": [
    "# save the splits to NeMo jsonl format\n",
    "train_manifest_path = os.path.join(os.path.dirname(path), \"train_manifest.jsonl\")\n",
    "dev_manifest_path = os.path.join(os.path.dirname(path), \"dev_manifest.jsonl\")\n",
    "test_manifest_path = os.path.join(os.path.dirname(path), \"test_manifest.jsonl\")\n",
    "train_df.to_json(train_manifest_path, orient='records', lines=True)\n",
    "dev_df.to_json(dev_manifest_path, orient='records', lines=True)\n",
    "test_df.to_json(test_manifest_path, orient='records', lines=True)\n",
    "print(f\"Train manifest saved to {train_manifest_path}\")\n",
    "print(f\"Dev manifest saved to {dev_manifest_path}\")\n",
    "print(f\"Test manifest saved to {test_manifest_path}\")"
   ]
  },
  {
   "cell_type": "code",
   "execution_count": 26,
   "metadata": {},
   "outputs": [],
   "source": [
    "def sample_dataset(df, duration, manifest_name, random_state=1):\n",
    "    \"\"\"\n",
    "    Sample a dataset to a specific duration.\n",
    "    \"\"\"\n",
    "    total_duration = float(df['duration'].sum())\n",
    "    ratio = (duration * 3600) / total_duration\n",
    "    n = int(len(df) * ratio)\n",
    "    sample = df.sample(n=n, random_state=random_state)\n",
    "    sample = sample.sample(frac=1, random_state=random_state).reset_index(drop=True)\n",
    "    sample_duration = sample['duration'].sum()\n",
    "    print(f\"Sample duration: {sample_duration / 3600:.2f} hours\")\n",
    "    \n",
    "    # save to new manifest\n",
    "    sample_manifest_path = os.path.join(\n",
    "        os.path.dirname(path),\n",
    "        f\"{manifest_name}_{int(duration)}h.jsonl\"\n",
    "    )\n",
    "    sample.to_json(sample_manifest_path, orient=\"records\", lines=True)\n",
    "    print(f\"Manifest saved to {sample_manifest_path}\")"
   ]
  },
  {
   "cell_type": "code",
   "execution_count": 27,
   "metadata": {},
   "outputs": [
    {
     "name": "stdout",
     "output_type": "stream",
     "text": [
      "Sample duration: 49.99 hours\n"
     ]
    },
    {
     "name": "stdout",
     "output_type": "stream",
     "text": [
      "Manifest saved to /mnt/md0/synvoices/data/naijavoices/train_manifest_50h.jsonl\n"
     ]
    }
   ],
   "source": [
    "sample_dataset(train_df, 50, \"train_manifest\", random_state=3)"
   ]
  },
  {
   "cell_type": "code",
   "execution_count": 28,
   "metadata": {},
   "outputs": [
    {
     "name": "stdout",
     "output_type": "stream",
     "text": [
      "Sample duration: 100.00 hours\n",
      "Manifest saved to /mnt/md0/synvoices/data/naijavoices/train_manifest_100h.jsonl\n"
     ]
    }
   ],
   "source": [
    "sample_dataset(train_df, 100, \"train_manifest\", random_state=19)"
   ]
  },
  {
   "cell_type": "code",
   "execution_count": 29,
   "metadata": {},
   "outputs": [
    {
     "name": "stdout",
     "output_type": "stream",
     "text": [
      "Sample duration: 249.99 hours\n",
      "Manifest saved to /mnt/md0/synvoices/data/naijavoices/train_manifest_250h.jsonl\n"
     ]
    }
   ],
   "source": [
    "sample_dataset(train_df, 250, \"train_manifest\", random_state=20)\n"
   ]
  },
  {
   "cell_type": "code",
   "execution_count": 30,
   "metadata": {},
   "outputs": [
    {
     "name": "stdout",
     "output_type": "stream",
     "text": [
      "Sample duration: 500.00 hours\n",
      "Manifest saved to /mnt/md0/synvoices/data/naijavoices/train_manifest_500h.jsonl\n"
     ]
    }
   ],
   "source": [
    "sample_dataset(train_df, 500, \"train_manifest\", random_state=13)"
   ]
  }
 ],
 "metadata": {
  "kernelspec": {
   "display_name": ".venv",
   "language": "python",
   "name": "python3"
  },
  "language_info": {
   "codemirror_mode": {
    "name": "ipython",
    "version": 3
   },
   "file_extension": ".py",
   "mimetype": "text/x-python",
   "name": "python",
   "nbconvert_exporter": "python",
   "pygments_lexer": "ipython3",
   "version": "3.9.16"
  }
 },
 "nbformat": 4,
 "nbformat_minor": 2
}
